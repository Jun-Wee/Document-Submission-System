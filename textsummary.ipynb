{
 "cells": [
  {
   "cell_type": "code",
   "execution_count": 1,
   "id": "a5e3d4d1",
   "metadata": {},
   "outputs": [
    {
     "name": "stdout",
     "output_type": "stream",
     "text": [
      "Requirement already satisfied: transformers in c:\\users\\yovinma konara\\appdata\\roaming\\python\\python39\\site-packages (4.20.1)\n",
      "Requirement already satisfied: huggingface-hub<1.0,>=0.1.0 in c:\\users\\yovinma konara\\appdata\\roaming\\python\\python39\\site-packages (from transformers) (0.8.1)\n",
      "Requirement already satisfied: pyyaml>=5.1 in c:\\programdata\\anaconda3\\lib\\site-packages (from transformers) (6.0)\n",
      "Requirement already satisfied: numpy>=1.17 in c:\\programdata\\anaconda3\\lib\\site-packages (from transformers) (1.21.5)\n",
      "Requirement already satisfied: regex!=2019.12.17 in c:\\programdata\\anaconda3\\lib\\site-packages (from transformers) (2022.3.15)\n",
      "Requirement already satisfied: packaging>=20.0 in c:\\programdata\\anaconda3\\lib\\site-packages (from transformers) (21.3)\n",
      "Requirement already satisfied: tqdm>=4.27 in c:\\programdata\\anaconda3\\lib\\site-packages (from transformers) (4.64.0)\n",
      "Requirement already satisfied: filelock in c:\\programdata\\anaconda3\\lib\\site-packages (from transformers) (3.6.0)\n",
      "Requirement already satisfied: tokenizers!=0.11.3,<0.13,>=0.11.1 in c:\\users\\yovinma konara\\appdata\\roaming\\python\\python39\\site-packages (from transformers) (0.12.1)\n",
      "Requirement already satisfied: requests in c:\\programdata\\anaconda3\\lib\\site-packages (from transformers) (2.27.1)\n",
      "Requirement already satisfied: typing-extensions>=3.7.4.3 in c:\\programdata\\anaconda3\\lib\\site-packages (from huggingface-hub<1.0,>=0.1.0->transformers) (4.1.1)\n",
      "Requirement already satisfied: pyparsing!=3.0.5,>=2.0.2 in c:\\programdata\\anaconda3\\lib\\site-packages (from packaging>=20.0->transformers) (3.0.4)\n",
      "Requirement already satisfied: colorama in c:\\programdata\\anaconda3\\lib\\site-packages (from tqdm>=4.27->transformers) (0.4.4)\n",
      "Requirement already satisfied: idna<4,>=2.5 in c:\\programdata\\anaconda3\\lib\\site-packages (from requests->transformers) (3.3)\n",
      "Requirement already satisfied: urllib3<1.27,>=1.21.1 in c:\\programdata\\anaconda3\\lib\\site-packages (from requests->transformers) (1.26.9)\n",
      "Requirement already satisfied: certifi>=2017.4.17 in c:\\programdata\\anaconda3\\lib\\site-packages (from requests->transformers) (2022.6.15)\n",
      "Requirement already satisfied: charset-normalizer~=2.0.0 in c:\\programdata\\anaconda3\\lib\\site-packages (from requests->transformers) (2.0.4)\n"
     ]
    }
   ],
   "source": [
    "#text summary using hugging transformers\n",
    "!pip install transformers"
   ]
  },
  {
   "cell_type": "code",
   "execution_count": 2,
   "id": "a38ae568",
   "metadata": {},
   "outputs": [],
   "source": [
    "from transformers import pipeline"
   ]
  },
  {
   "cell_type": "code",
   "execution_count": 3,
   "id": "294860bb",
   "metadata": {},
   "outputs": [
    {
     "name": "stderr",
     "output_type": "stream",
     "text": [
      "No model was supplied, defaulted to sshleifer/distilbart-cnn-12-6 (https://huggingface.co/sshleifer/distilbart-cnn-12-6)\n"
     ]
    },
    {
     "data": {
      "application/vnd.jupyter.widget-view+json": {
       "model_id": "3820c4bef654428bb23f2063e889d143",
       "version_major": 2,
       "version_minor": 0
      },
      "text/plain": [
       "Downloading:   0%|          | 0.00/1.76k [00:00<?, ?B/s]"
      ]
     },
     "metadata": {},
     "output_type": "display_data"
    },
    {
     "data": {
      "application/vnd.jupyter.widget-view+json": {
       "model_id": "43006865f9464ba5a554d2cbe95efbac",
       "version_major": 2,
       "version_minor": 0
      },
      "text/plain": [
       "Downloading:   0%|          | 0.00/1.14G [00:00<?, ?B/s]"
      ]
     },
     "metadata": {},
     "output_type": "display_data"
    },
    {
     "data": {
      "application/vnd.jupyter.widget-view+json": {
       "model_id": "9a16731c162d4efcb3b2d3d7e5e0533b",
       "version_major": 2,
       "version_minor": 0
      },
      "text/plain": [
       "Downloading:   0%|          | 0.00/26.0 [00:00<?, ?B/s]"
      ]
     },
     "metadata": {},
     "output_type": "display_data"
    },
    {
     "data": {
      "application/vnd.jupyter.widget-view+json": {
       "model_id": "013c46b979ad498ba9108814ba682a29",
       "version_major": 2,
       "version_minor": 0
      },
      "text/plain": [
       "Downloading:   0%|          | 0.00/878k [00:00<?, ?B/s]"
      ]
     },
     "metadata": {},
     "output_type": "display_data"
    },
    {
     "data": {
      "application/vnd.jupyter.widget-view+json": {
       "model_id": "722d1823c06f410a9be08b0a974eef7b",
       "version_major": 2,
       "version_minor": 0
      },
      "text/plain": [
       "Downloading:   0%|          | 0.00/446k [00:00<?, ?B/s]"
      ]
     },
     "metadata": {},
     "output_type": "display_data"
    }
   ],
   "source": [
    "# use bart model in pytorch\n",
    "#t5 in tensorflow will need to be checked against this \n",
    "summarizer = pipeline('summarization')"
   ]
  },
  {
   "cell_type": "code",
   "execution_count": 4,
   "id": "7d48cc28",
   "metadata": {},
   "outputs": [
    {
     "data": {
      "text/plain": [
       "[{'summary_text': ' According to Kant’s categorical imperative, the act of whistleblowing is ethically wrong . utilitarianism would consider whistleblowing as a justifiable action  as it serves a greater good . The introduction to whistleblower protection laws suggests that it can be considered  justifiable to a degree . The risk version philosophy shows that there is no definite stance if whistleblowing was ethical or not. It depends on how severe the consequence would be if the whistle was or was not blown. The question of which entity would be considered worthy of less harm makes it difficult to give an answer based on this .'}]"
      ]
     },
     "execution_count": 4,
     "metadata": {},
     "output_type": "execute_result"
    }
   ],
   "source": [
    "#This would have to be the result from pdfparser passed onto this variable\n",
    "article = \"\"\"Based on the information presented in the section of justification, most evidence gravitate towards a number \n",
    "of ethical principles and codes of conduct that also consider the realm of professionalism. Firstly, according \n",
    "to Kant’s categorical imperative, the act of whistleblowing is considered ethically wrong. It steers away from \n",
    "the initial promise of remaining loyal to their organization, which also ties with professionalism; Kant’s theory \n",
    "states that there will be no exception regardless of status or change in circumstances which is difficult to \n",
    "achieve in a modern world where rising technology creates many positive or negative unknowns in the future.\n",
    "Secondly, in contrast to the principle above, utilitarianism would consider whistleblowing as a justifiable action \n",
    "as it serves a greater good. The intent of whistleblowing is to put the happiness of a greater volume of \n",
    "individuals, where in this instance the public population would exceed the number of individuals \n",
    "“compromised” in the organization. According to (Kleinig, 2022), it would still be considered a justifiable action, \n",
    "even if the whistleblower was initially motivated by a negative factor, such as revenge. Thirdly, the risk \n",
    "aversion philosophy shows that there is no definite stance if whistleblowing is ethical or not. It depends on \n",
    "how severe the consequence would be if the whistle was or was not blown. Furthermore, the question of \n",
    "which entity would be considered worthy of less harm makes it difficult to give an answer based on this \n",
    "principle.\n",
    "As most whistleblowing instances discussed in the justification section, it is appropriate to consider a code of \n",
    "conduct within a professional context. If the code of conduct within the organization suggests that their \n",
    "primary concern is the publics’ interest, then the whistleblower has the ability to commit the act without \n",
    "maintaining professionalism, which would be the socially ethical. Yet again, the argument of justification for \n",
    "whistleblowing also depends on the contents of the code of conduct and the order in which the values are \n",
    "prioritized in the event of a conflict, so it would be difficult to make a definite decision based on this factor \n",
    "alone. Furthermore, the introduction to whistleblower protection laws suggests that it can be considered \n",
    "justifiable to a degree.\"\"\"\n",
    "\n",
    "summ = summarizer(article,max_length=300, min_length = 100, do_sample = False) #using a greedy decoder for deciding what word to return next."
   ]
  },
  {
   "cell_type": "code",
   "execution_count": null,
   "id": "398a3064",
   "metadata": {},
   "outputs": [],
   "source": [
    "#heres how the summarized info can be extracted \n",
    "summ[0]['summary_text']"
   ]
  }
 ],
 "metadata": {
  "kernelspec": {
   "display_name": "Python 3 (ipykernel)",
   "language": "python",
   "name": "python3"
  },
  "language_info": {
   "codemirror_mode": {
    "name": "ipython",
    "version": 3
   },
   "file_extension": ".py",
   "mimetype": "text/x-python",
   "name": "python",
   "nbconvert_exporter": "python",
   "pygments_lexer": "ipython3",
   "version": "3.9.12"
  }
 },
 "nbformat": 4,
 "nbformat_minor": 5
}
