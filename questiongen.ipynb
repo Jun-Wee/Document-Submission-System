{
 "cells": [
  {
   "cell_type": "code",
   "execution_count": 1,
   "metadata": {},
   "outputs": [
    {
     "name": "stdout",
     "output_type": "stream",
     "text": [
      "Requirement already satisfied: pip in c:\\users\\yovinma konara\\appdata\\roaming\\python\\python37\\site-packages (22.2.2)Note: you may need to restart the kernel to use updated packages.\n",
      "\n"
     ]
    }
   ],
   "source": [
    "%pip install --upgrade pip"
   ]
  },
  {
   "cell_type": "code",
   "execution_count": 2,
   "metadata": {},
   "outputs": [
    {
     "name": "stdout",
     "output_type": "stream",
     "text": [
      "Collecting git+https://github.com/sandaliij/Questgen.ai\n",
      "  Cloning https://github.com/sandaliij/Questgen.ai to c:\\users\\yovinm~1\\appdata\\local\\temp\\pip-req-build-erxs1x1w\n",
      "  Resolved https://github.com/sandaliij/Questgen.ai to commit 860f289c4cc9f9acbfff80455a427903d96fff36\n",
      "  Preparing metadata (setup.py): started\n",
      "  Preparing metadata (setup.py): finished with status 'done'\n",
      "Requirement already satisfied: torch==1.10.0 in c:\\users\\yovinma konara\\appdata\\local\\programs\\python\\python37\\lib\\site-packages (from Questgen==1.0.0) (1.10.0)\n",
      "Requirement already satisfied: transformers==3.0.2 in c:\\users\\yovinma konara\\appdata\\roaming\\python\\python37\\site-packages (from Questgen==1.0.0) (3.0.2)\n",
      "Collecting sense2vec==2.0.0\n",
      "  Using cached sense2vec-2.0.0-py2.py3-none-any.whl (39 kB)\n",
      "Requirement already satisfied: strsim==0.0.3 in c:\\users\\yovinma konara\\appdata\\local\\programs\\python\\python37\\lib\\site-packages (from Questgen==1.0.0) (0.0.3)\n",
      "Requirement already satisfied: six==1.15.0 in c:\\users\\yovinma konara\\appdata\\local\\programs\\python\\python37\\lib\\site-packages (from Questgen==1.0.0) (1.15.0)\n",
      "Requirement already satisfied: networkx==2.6.3 in c:\\users\\yovinma konara\\appdata\\local\\programs\\python\\python37\\lib\\site-packages (from Questgen==1.0.0) (2.6.3)\n",
      "Requirement already satisfied: numpy==1.21.5 in c:\\users\\yovinma konara\\appdata\\local\\programs\\python\\python37\\lib\\site-packages (from Questgen==1.0.0) (1.21.5)\n",
      "Requirement already satisfied: scipy==1.4.1 in c:\\users\\yovinma konara\\appdata\\local\\programs\\python\\python37\\lib\\site-packages (from Questgen==1.0.0) (1.4.1)\n",
      "Requirement already satisfied: scikit-learn==1.0.2 in c:\\users\\yovinma konara\\appdata\\local\\programs\\python\\python37\\lib\\site-packages (from Questgen==1.0.0) (1.0.2)\n",
      "Requirement already satisfied: unidecode==1.3.4 in c:\\users\\yovinma konara\\appdata\\local\\programs\\python\\python37\\lib\\site-packages (from Questgen==1.0.0) (1.3.4)\n",
      "Requirement already satisfied: future==0.16.0 in c:\\users\\yovinma konara\\appdata\\local\\programs\\python\\python37\\lib\\site-packages (from Questgen==1.0.0) (0.16.0)\n",
      "Requirement already satisfied: joblib==1.1.0 in c:\\users\\yovinma konara\\appdata\\roaming\\python\\python37\\site-packages (from Questgen==1.0.0) (1.1.0)\n",
      "Requirement already satisfied: pytz==2018.9 in c:\\users\\yovinma konara\\appdata\\local\\programs\\python\\python37\\lib\\site-packages (from Questgen==1.0.0) (2018.9)\n",
      "Requirement already satisfied: python-dateutil==2.8.2 in c:\\users\\yovinma konara\\appdata\\roaming\\python\\python37\\site-packages (from Questgen==1.0.0) (2.8.2)\n",
      "Requirement already satisfied: flashtext==2.7 in c:\\users\\yovinma konara\\appdata\\local\\programs\\python\\python37\\lib\\site-packages (from Questgen==1.0.0) (2.7)\n",
      "Requirement already satisfied: pandas==1.3.5 in c:\\users\\yovinma konara\\appdata\\local\\programs\\python\\python37\\lib\\site-packages (from Questgen==1.0.0) (1.3.5)\n",
      "Requirement already satisfied: threadpoolctl>=2.0.0 in c:\\users\\yovinma konara\\appdata\\local\\programs\\python\\python37\\lib\\site-packages (from scikit-learn==1.0.2->Questgen==1.0.0) (3.1.0)\n",
      "Requirement already satisfied: spacy<4.0.0,>=3.0.0 in c:\\users\\yovinma konara\\appdata\\local\\programs\\python\\python37\\lib\\site-packages (from sense2vec==2.0.0->Questgen==1.0.0) (3.4.1)\n",
      "Requirement already satisfied: srsly<3.0.0,>=2.4.0 in c:\\users\\yovinma konara\\appdata\\local\\programs\\python\\python37\\lib\\site-packages (from sense2vec==2.0.0->Questgen==1.0.0) (2.4.4)\n",
      "Requirement already satisfied: catalogue<2.1.0,>=2.0.1 in c:\\users\\yovinma konara\\appdata\\local\\programs\\python\\python37\\lib\\site-packages (from sense2vec==2.0.0->Questgen==1.0.0) (2.0.8)\n",
      "Requirement already satisfied: importlib-metadata>=0.20 in c:\\users\\yovinma konara\\appdata\\roaming\\python\\python37\\site-packages (from sense2vec==2.0.0->Questgen==1.0.0) (4.12.0)\n",
      "Requirement already satisfied: wasabi<1.1.0,>=0.8.1 in c:\\users\\yovinma konara\\appdata\\local\\programs\\python\\python37\\lib\\site-packages (from sense2vec==2.0.0->Questgen==1.0.0) (0.10.1)\n",
      "Requirement already satisfied: typing-extensions in c:\\users\\yovinma konara\\appdata\\local\\programs\\python\\python37\\lib\\site-packages (from torch==1.10.0->Questgen==1.0.0) (3.10.0.2)\n",
      "Requirement already satisfied: tokenizers==0.8.1.rc1 in c:\\users\\yovinma konara\\appdata\\local\\programs\\python\\python37\\lib\\site-packages (from transformers==3.0.2->Questgen==1.0.0) (0.8.1rc1)\n",
      "Requirement already satisfied: sentencepiece!=0.1.92 in c:\\users\\yovinma konara\\appdata\\local\\programs\\python\\python37\\lib\\site-packages (from transformers==3.0.2->Questgen==1.0.0) (0.1.97)\n",
      "Requirement already satisfied: sacremoses in c:\\users\\yovinma konara\\appdata\\roaming\\python\\python37\\site-packages (from transformers==3.0.2->Questgen==1.0.0) (0.0.53)\n",
      "Requirement already satisfied: filelock in c:\\users\\yovinma konara\\appdata\\roaming\\python\\python37\\site-packages (from transformers==3.0.2->Questgen==1.0.0) (3.8.0)\n",
      "Requirement already satisfied: packaging in c:\\users\\yovinma konara\\appdata\\roaming\\python\\python37\\site-packages (from transformers==3.0.2->Questgen==1.0.0) (21.3)\n",
      "Requirement already satisfied: requests in c:\\users\\yovinma konara\\appdata\\roaming\\python\\python37\\site-packages (from transformers==3.0.2->Questgen==1.0.0) (2.28.1)\n",
      "Requirement already satisfied: regex!=2019.12.17 in c:\\users\\yovinma konara\\appdata\\local\\programs\\python\\python37\\lib\\site-packages (from transformers==3.0.2->Questgen==1.0.0) (2022.7.25)\n",
      "Requirement already satisfied: tqdm>=4.27 in c:\\users\\yovinma konara\\appdata\\roaming\\python\\python37\\site-packages (from transformers==3.0.2->Questgen==1.0.0) (4.64.0)\n",
      "Requirement already satisfied: zipp>=0.5 in c:\\users\\yovinma konara\\appdata\\roaming\\python\\python37\\site-packages (from catalogue<2.1.0,>=2.0.1->sense2vec==2.0.0->Questgen==1.0.0) (3.8.1)\n",
      "Requirement already satisfied: murmurhash<1.1.0,>=0.28.0 in c:\\users\\yovinma konara\\appdata\\local\\programs\\python\\python37\\lib\\site-packages (from spacy<4.0.0,>=3.0.0->sense2vec==2.0.0->Questgen==1.0.0) (1.0.7)\n",
      "Requirement already satisfied: pydantic!=1.8,!=1.8.1,<1.10.0,>=1.7.4 in c:\\users\\yovinma konara\\appdata\\local\\programs\\python\\python37\\lib\\site-packages (from spacy<4.0.0,>=3.0.0->sense2vec==2.0.0->Questgen==1.0.0) (1.7.4)\n",
      "Requirement already satisfied: preshed<3.1.0,>=3.0.2 in c:\\users\\yovinma konara\\appdata\\local\\programs\\python\\python37\\lib\\site-packages (from spacy<4.0.0,>=3.0.0->sense2vec==2.0.0->Questgen==1.0.0) (3.0.6)\n",
      "Requirement already satisfied: spacy-legacy<3.1.0,>=3.0.9 in c:\\users\\yovinma konara\\appdata\\local\\programs\\python\\python37\\lib\\site-packages (from spacy<4.0.0,>=3.0.0->sense2vec==2.0.0->Questgen==1.0.0) (3.0.9)\n",
      "Requirement already satisfied: typer<0.5.0,>=0.3.0 in c:\\users\\yovinma konara\\appdata\\local\\programs\\python\\python37\\lib\\site-packages (from spacy<4.0.0,>=3.0.0->sense2vec==2.0.0->Questgen==1.0.0) (0.3.2)\n",
      "Requirement already satisfied: spacy-loggers<2.0.0,>=1.0.0 in c:\\users\\yovinma konara\\appdata\\local\\programs\\python\\python37\\lib\\site-packages (from spacy<4.0.0,>=3.0.0->sense2vec==2.0.0->Questgen==1.0.0) (1.0.3)\n",
      "Requirement already satisfied: setuptools in c:\\users\\yovinma konara\\appdata\\local\\programs\\python\\python37\\lib\\site-packages (from spacy<4.0.0,>=3.0.0->sense2vec==2.0.0->Questgen==1.0.0) (47.1.0)\n",
      "Requirement already satisfied: langcodes<4.0.0,>=3.2.0 in c:\\users\\yovinma konara\\appdata\\local\\programs\\python\\python37\\lib\\site-packages (from spacy<4.0.0,>=3.0.0->sense2vec==2.0.0->Questgen==1.0.0) (3.3.0)\n",
      "Requirement already satisfied: pathy>=0.3.5 in c:\\users\\yovinma konara\\appdata\\local\\programs\\python\\python37\\lib\\site-packages (from spacy<4.0.0,>=3.0.0->sense2vec==2.0.0->Questgen==1.0.0) (0.6.2)\n",
      "Requirement already satisfied: thinc<8.2.0,>=8.1.0 in c:\\users\\yovinma konara\\appdata\\local\\programs\\python\\python37\\lib\\site-packages (from spacy<4.0.0,>=3.0.0->sense2vec==2.0.0->Questgen==1.0.0) (8.1.1)\n",
      "Requirement already satisfied: jinja2 in c:\\users\\yovinma konara\\appdata\\roaming\\python\\python37\\site-packages (from spacy<4.0.0,>=3.0.0->sense2vec==2.0.0->Questgen==1.0.0) (3.1.2)\n",
      "Requirement already satisfied: cymem<2.1.0,>=2.0.2 in c:\\users\\yovinma konara\\appdata\\local\\programs\\python\\python37\\lib\\site-packages (from spacy<4.0.0,>=3.0.0->sense2vec==2.0.0->Questgen==1.0.0) (2.0.6)\n",
      "Requirement already satisfied: pyparsing!=3.0.5,>=2.0.2 in c:\\users\\yovinma konara\\appdata\\roaming\\python\\python37\\site-packages (from packaging->transformers==3.0.2->Questgen==1.0.0) (3.0.9)\n",
      "Requirement already satisfied: urllib3<1.27,>=1.21.1 in c:\\users\\yovinma konara\\appdata\\roaming\\python\\python37\\site-packages (from requests->transformers==3.0.2->Questgen==1.0.0) (1.26.11)\n",
      "Requirement already satisfied: certifi>=2017.4.17 in c:\\users\\yovinma konara\\appdata\\roaming\\python\\python37\\site-packages (from requests->transformers==3.0.2->Questgen==1.0.0) (2022.6.15)\n",
      "Requirement already satisfied: idna<4,>=2.5 in c:\\users\\yovinma konara\\appdata\\roaming\\python\\python37\\site-packages (from requests->transformers==3.0.2->Questgen==1.0.0) (3.3)\n",
      "Requirement already satisfied: charset-normalizer<3,>=2 in c:\\users\\yovinma konara\\appdata\\roaming\\python\\python37\\site-packages (from requests->transformers==3.0.2->Questgen==1.0.0) (2.1.0)\n",
      "Requirement already satisfied: colorama in c:\\users\\yovinma konara\\appdata\\roaming\\python\\python37\\site-packages (from tqdm>=4.27->transformers==3.0.2->Questgen==1.0.0) (0.4.5)\n",
      "Requirement already satisfied: click in c:\\users\\yovinma konara\\appdata\\local\\programs\\python\\python37\\lib\\site-packages (from sacremoses->transformers==3.0.2->Questgen==1.0.0) (7.1.2)\n",
      "Requirement already satisfied: smart-open<6.0.0,>=5.2.1 in c:\\users\\yovinma konara\\appdata\\local\\programs\\python\\python37\\lib\\site-packages (from pathy>=0.3.5->spacy<4.0.0,>=3.0.0->sense2vec==2.0.0->Questgen==1.0.0) (5.2.1)\n",
      "Requirement already satisfied: confection<1.0.0,>=0.0.1 in c:\\users\\yovinma konara\\appdata\\local\\programs\\python\\python37\\lib\\site-packages (from thinc<8.2.0,>=8.1.0->spacy<4.0.0,>=3.0.0->sense2vec==2.0.0->Questgen==1.0.0) (0.0.1)\n",
      "Requirement already satisfied: blis<0.10.0,>=0.7.8 in c:\\users\\yovinma konara\\appdata\\local\\programs\\python\\python37\\lib\\site-packages (from thinc<8.2.0,>=8.1.0->spacy<4.0.0,>=3.0.0->sense2vec==2.0.0->Questgen==1.0.0) (0.7.8)\n",
      "Requirement already satisfied: MarkupSafe>=2.0 in c:\\users\\yovinma konara\\appdata\\roaming\\python\\python37\\site-packages (from jinja2->spacy<4.0.0,>=3.0.0->sense2vec==2.0.0->Questgen==1.0.0) (2.1.1)\n",
      "Installing collected packages: sense2vec\n",
      "  Attempting uninstall: sense2vec\n",
      "    Found existing installation: sense2vec 1.0.2\n",
      "    Uninstalling sense2vec-1.0.2:\n",
      "      Successfully uninstalled sense2vec-1.0.2\n",
      "Successfully installed sense2vec-2.0.0\n",
      "Note: you may need to restart the kernel to use updated packages.\n"
     ]
    },
    {
     "name": "stderr",
     "output_type": "stream",
     "text": [
      "  Running command git clone --filter=blob:none --quiet https://github.com/sandaliij/Questgen.ai 'C:\\Users\\YOVINM~1\\AppData\\Local\\Temp\\pip-req-build-erxs1x1w'\n"
     ]
    }
   ],
   "source": [
    "%pip install --upgrade git+https://github.com/sandaliij/Questgen.ai"
   ]
  },
  {
   "cell_type": "code",
   "execution_count": 3,
   "metadata": {},
   "outputs": [
    {
     "name": "stdout",
     "output_type": "stream",
     "text": [
      "Requirement already satisfied: sense2vec==2.0.0 in c:\\users\\yovinma konara\\appdata\\local\\programs\\python\\python37\\lib\\site-packages (2.0.0)\n",
      "Requirement already satisfied: wasabi<1.1.0,>=0.8.1 in c:\\users\\yovinma konara\\appdata\\local\\programs\\python\\python37\\lib\\site-packages (from sense2vec==2.0.0) (0.10.1)\n",
      "Requirement already satisfied: numpy>=1.15.0 in c:\\users\\yovinma konara\\appdata\\local\\programs\\python\\python37\\lib\\site-packages (from sense2vec==2.0.0) (1.21.5)\n",
      "Requirement already satisfied: spacy<4.0.0,>=3.0.0 in c:\\users\\yovinma konara\\appdata\\local\\programs\\python\\python37\\lib\\site-packages (from sense2vec==2.0.0) (3.4.1)\n",
      "Requirement already satisfied: catalogue<2.1.0,>=2.0.1 in c:\\users\\yovinma konara\\appdata\\local\\programs\\python\\python37\\lib\\site-packages (from sense2vec==2.0.0) (2.0.8)\n",
      "Requirement already satisfied: srsly<3.0.0,>=2.4.0 in c:\\users\\yovinma konara\\appdata\\local\\programs\\python\\python37\\lib\\site-packages (from sense2vec==2.0.0) (2.4.4)\n",
      "Requirement already satisfied: importlib-metadata>=0.20 in c:\\users\\yovinma konara\\appdata\\roaming\\python\\python37\\site-packages (from sense2vec==2.0.0) (4.12.0)\n",
      "Requirement already satisfied: zipp>=0.5 in c:\\users\\yovinma konara\\appdata\\roaming\\python\\python37\\site-packages (from catalogue<2.1.0,>=2.0.1->sense2vec==2.0.0) (3.8.1)\n",
      "Requirement already satisfied: typing-extensions>=3.6.4 in c:\\users\\yovinma konara\\appdata\\local\\programs\\python\\python37\\lib\\site-packages (from catalogue<2.1.0,>=2.0.1->sense2vec==2.0.0) (3.10.0.2)\n",
      "Requirement already satisfied: preshed<3.1.0,>=3.0.2 in c:\\users\\yovinma konara\\appdata\\local\\programs\\python\\python37\\lib\\site-packages (from spacy<4.0.0,>=3.0.0->sense2vec==2.0.0) (3.0.6)\n",
      "Requirement already satisfied: murmurhash<1.1.0,>=0.28.0 in c:\\users\\yovinma konara\\appdata\\local\\programs\\python\\python37\\lib\\site-packages (from spacy<4.0.0,>=3.0.0->sense2vec==2.0.0) (1.0.7)\n",
      "Requirement already satisfied: pydantic!=1.8,!=1.8.1,<1.10.0,>=1.7.4 in c:\\users\\yovinma konara\\appdata\\local\\programs\\python\\python37\\lib\\site-packages (from spacy<4.0.0,>=3.0.0->sense2vec==2.0.0) (1.7.4)\n",
      "Requirement already satisfied: spacy-loggers<2.0.0,>=1.0.0 in c:\\users\\yovinma konara\\appdata\\local\\programs\\python\\python37\\lib\\site-packages (from spacy<4.0.0,>=3.0.0->sense2vec==2.0.0) (1.0.3)\n",
      "Requirement already satisfied: packaging>=20.0 in c:\\users\\yovinma konara\\appdata\\roaming\\python\\python37\\site-packages (from spacy<4.0.0,>=3.0.0->sense2vec==2.0.0) (21.3)\n",
      "Requirement already satisfied: pathy>=0.3.5 in c:\\users\\yovinma konara\\appdata\\local\\programs\\python\\python37\\lib\\site-packages (from spacy<4.0.0,>=3.0.0->sense2vec==2.0.0) (0.6.2)\n",
      "Requirement already satisfied: typer<0.5.0,>=0.3.0 in c:\\users\\yovinma konara\\appdata\\local\\programs\\python\\python37\\lib\\site-packages (from spacy<4.0.0,>=3.0.0->sense2vec==2.0.0) (0.3.2)\n",
      "Requirement already satisfied: setuptools in c:\\users\\yovinma konara\\appdata\\local\\programs\\python\\python37\\lib\\site-packages (from spacy<4.0.0,>=3.0.0->sense2vec==2.0.0) (47.1.0)\n",
      "Requirement already satisfied: cymem<2.1.0,>=2.0.2 in c:\\users\\yovinma konara\\appdata\\local\\programs\\python\\python37\\lib\\site-packages (from spacy<4.0.0,>=3.0.0->sense2vec==2.0.0) (2.0.6)\n",
      "Requirement already satisfied: spacy-legacy<3.1.0,>=3.0.9 in c:\\users\\yovinma konara\\appdata\\local\\programs\\python\\python37\\lib\\site-packages (from spacy<4.0.0,>=3.0.0->sense2vec==2.0.0) (3.0.9)\n",
      "Requirement already satisfied: tqdm<5.0.0,>=4.38.0 in c:\\users\\yovinma konara\\appdata\\roaming\\python\\python37\\site-packages (from spacy<4.0.0,>=3.0.0->sense2vec==2.0.0) (4.64.0)\n",
      "Requirement already satisfied: langcodes<4.0.0,>=3.2.0 in c:\\users\\yovinma konara\\appdata\\local\\programs\\python\\python37\\lib\\site-packages (from spacy<4.0.0,>=3.0.0->sense2vec==2.0.0) (3.3.0)\n",
      "Requirement already satisfied: thinc<8.2.0,>=8.1.0 in c:\\users\\yovinma konara\\appdata\\local\\programs\\python\\python37\\lib\\site-packages (from spacy<4.0.0,>=3.0.0->sense2vec==2.0.0) (8.1.1)\n",
      "Requirement already satisfied: jinja2 in c:\\users\\yovinma konara\\appdata\\roaming\\python\\python37\\site-packages (from spacy<4.0.0,>=3.0.0->sense2vec==2.0.0) (3.1.2)\n",
      "Requirement already satisfied: requests<3.0.0,>=2.13.0 in c:\\users\\yovinma konara\\appdata\\roaming\\python\\python37\\site-packages (from spacy<4.0.0,>=3.0.0->sense2vec==2.0.0) (2.28.1)\n",
      "Requirement already satisfied: pyparsing!=3.0.5,>=2.0.2 in c:\\users\\yovinma konara\\appdata\\roaming\\python\\python37\\site-packages (from packaging>=20.0->spacy<4.0.0,>=3.0.0->sense2vec==2.0.0) (3.0.9)\n",
      "Requirement already satisfied: smart-open<6.0.0,>=5.2.1 in c:\\users\\yovinma konara\\appdata\\local\\programs\\python\\python37\\lib\\site-packages (from pathy>=0.3.5->spacy<4.0.0,>=3.0.0->sense2vec==2.0.0) (5.2.1)\n",
      "Requirement already satisfied: urllib3<1.27,>=1.21.1 in c:\\users\\yovinma konara\\appdata\\roaming\\python\\python37\\site-packages (from requests<3.0.0,>=2.13.0->spacy<4.0.0,>=3.0.0->sense2vec==2.0.0) (1.26.11)\n",
      "Requirement already satisfied: certifi>=2017.4.17 in c:\\users\\yovinma konara\\appdata\\roaming\\python\\python37\\site-packages (from requests<3.0.0,>=2.13.0->spacy<4.0.0,>=3.0.0->sense2vec==2.0.0) (2022.6.15)\n",
      "Requirement already satisfied: charset-normalizer<3,>=2 in c:\\users\\yovinma konara\\appdata\\roaming\\python\\python37\\site-packages (from requests<3.0.0,>=2.13.0->spacy<4.0.0,>=3.0.0->sense2vec==2.0.0) (2.1.0)\n",
      "Requirement already satisfied: idna<4,>=2.5 in c:\\users\\yovinma konara\\appdata\\roaming\\python\\python37\\site-packages (from requests<3.0.0,>=2.13.0->spacy<4.0.0,>=3.0.0->sense2vec==2.0.0) (3.3)\n",
      "Requirement already satisfied: blis<0.10.0,>=0.7.8 in c:\\users\\yovinma konara\\appdata\\local\\programs\\python\\python37\\lib\\site-packages (from thinc<8.2.0,>=8.1.0->spacy<4.0.0,>=3.0.0->sense2vec==2.0.0) (0.7.8)\n",
      "Requirement already satisfied: confection<1.0.0,>=0.0.1 in c:\\users\\yovinma konara\\appdata\\local\\programs\\python\\python37\\lib\\site-packages (from thinc<8.2.0,>=8.1.0->spacy<4.0.0,>=3.0.0->sense2vec==2.0.0) (0.0.1)\n",
      "Requirement already satisfied: colorama in c:\\users\\yovinma konara\\appdata\\roaming\\python\\python37\\site-packages (from tqdm<5.0.0,>=4.38.0->spacy<4.0.0,>=3.0.0->sense2vec==2.0.0) (0.4.5)\n",
      "Requirement already satisfied: click<7.2.0,>=7.1.1 in c:\\users\\yovinma konara\\appdata\\local\\programs\\python\\python37\\lib\\site-packages (from typer<0.5.0,>=0.3.0->spacy<4.0.0,>=3.0.0->sense2vec==2.0.0) (7.1.2)\n",
      "Requirement already satisfied: MarkupSafe>=2.0 in c:\\users\\yovinma konara\\appdata\\roaming\\python\\python37\\site-packages (from jinja2->spacy<4.0.0,>=3.0.0->sense2vec==2.0.0) (2.1.1)\n",
      "Note: you may need to restart the kernel to use updated packages.\n",
      "Note: you may need to restart the kernel to use updated packages.\n"
     ]
    },
    {
     "name": "stderr",
     "output_type": "stream",
     "text": [
      "  Running command git clone --filter=blob:none --quiet https://github.com/boudinfl/pke.git 'C:\\Users\\YOVINM~1\\AppData\\Local\\Temp\\pip-req-build-vaigkvvh'\n"
     ]
    },
    {
     "name": "stdout",
     "output_type": "stream",
     "text": [
      "Collecting git+https://github.com/boudinfl/pke.git\n",
      "  Cloning https://github.com/boudinfl/pke.git to c:\\users\\yovinm~1\\appdata\\local\\temp\\pip-req-build-vaigkvvh\n",
      "  Resolved https://github.com/boudinfl/pke.git to commit 5af1f817e0211c33ac3f90e1e86bb5c1283448e8\n",
      "  Preparing metadata (setup.py): started\n",
      "  Preparing metadata (setup.py): finished with status 'done'\n",
      "Requirement already satisfied: nltk in c:\\users\\yovinma konara\\appdata\\local\\programs\\python\\python37\\lib\\site-packages (from pke==2.0.0) (3.7)\n",
      "Requirement already satisfied: networkx in c:\\users\\yovinma konara\\appdata\\local\\programs\\python\\python37\\lib\\site-packages (from pke==2.0.0) (2.6.3)\n",
      "Requirement already satisfied: numpy in c:\\users\\yovinma konara\\appdata\\local\\programs\\python\\python37\\lib\\site-packages (from pke==2.0.0) (1.21.5)\n",
      "Requirement already satisfied: scipy in c:\\users\\yovinma konara\\appdata\\local\\programs\\python\\python37\\lib\\site-packages (from pke==2.0.0) (1.4.1)\n",
      "Requirement already satisfied: sklearn in c:\\users\\yovinma konara\\appdata\\local\\programs\\python\\python37\\lib\\site-packages (from pke==2.0.0) (0.0)\n",
      "Requirement already satisfied: unidecode in c:\\users\\yovinma konara\\appdata\\local\\programs\\python\\python37\\lib\\site-packages (from pke==2.0.0) (1.3.4)\n",
      "Requirement already satisfied: future in c:\\users\\yovinma konara\\appdata\\local\\programs\\python\\python37\\lib\\site-packages (from pke==2.0.0) (0.16.0)\n",
      "Requirement already satisfied: joblib in c:\\users\\yovinma konara\\appdata\\roaming\\python\\python37\\site-packages (from pke==2.0.0) (1.1.0)\n",
      "Requirement already satisfied: spacy>=3.2.3 in c:\\users\\yovinma konara\\appdata\\local\\programs\\python\\python37\\lib\\site-packages (from pke==2.0.0) (3.4.1)\n",
      "Requirement already satisfied: catalogue<2.1.0,>=2.0.6 in c:\\users\\yovinma konara\\appdata\\local\\programs\\python\\python37\\lib\\site-packages (from spacy>=3.2.3->pke==2.0.0) (2.0.8)\n",
      "Requirement already satisfied: requests<3.0.0,>=2.13.0 in c:\\users\\yovinma konara\\appdata\\roaming\\python\\python37\\site-packages (from spacy>=3.2.3->pke==2.0.0) (2.28.1)\n",
      "Requirement already satisfied: setuptools in c:\\users\\yovinma konara\\appdata\\local\\programs\\python\\python37\\lib\\site-packages (from spacy>=3.2.3->pke==2.0.0) (47.1.0)\n",
      "Requirement already satisfied: cymem<2.1.0,>=2.0.2 in c:\\users\\yovinma konara\\appdata\\local\\programs\\python\\python37\\lib\\site-packages (from spacy>=3.2.3->pke==2.0.0) (2.0.6)\n",
      "Requirement already satisfied: packaging>=20.0 in c:\\users\\yovinma konara\\appdata\\roaming\\python\\python37\\site-packages (from spacy>=3.2.3->pke==2.0.0) (21.3)\n",
      "Requirement already satisfied: murmurhash<1.1.0,>=0.28.0 in c:\\users\\yovinma konara\\appdata\\local\\programs\\python\\python37\\lib\\site-packages (from spacy>=3.2.3->pke==2.0.0) (1.0.7)\n",
      "Requirement already satisfied: thinc<8.2.0,>=8.1.0 in c:\\users\\yovinma konara\\appdata\\local\\programs\\python\\python37\\lib\\site-packages (from spacy>=3.2.3->pke==2.0.0) (8.1.1)\n",
      "Requirement already satisfied: tqdm<5.0.0,>=4.38.0 in c:\\users\\yovinma konara\\appdata\\roaming\\python\\python37\\site-packages (from spacy>=3.2.3->pke==2.0.0) (4.64.0)\n",
      "Requirement already satisfied: pydantic!=1.8,!=1.8.1,<1.10.0,>=1.7.4 in c:\\users\\yovinma konara\\appdata\\local\\programs\\python\\python37\\lib\\site-packages (from spacy>=3.2.3->pke==2.0.0) (1.7.4)\n",
      "Requirement already satisfied: preshed<3.1.0,>=3.0.2 in c:\\users\\yovinma konara\\appdata\\local\\programs\\python\\python37\\lib\\site-packages (from spacy>=3.2.3->pke==2.0.0) (3.0.6)\n",
      "Requirement already satisfied: typer<0.5.0,>=0.3.0 in c:\\users\\yovinma konara\\appdata\\local\\programs\\python\\python37\\lib\\site-packages (from spacy>=3.2.3->pke==2.0.0) (0.3.2)\n",
      "Requirement already satisfied: typing-extensions<4.2.0,>=3.7.4 in c:\\users\\yovinma konara\\appdata\\local\\programs\\python\\python37\\lib\\site-packages (from spacy>=3.2.3->pke==2.0.0) (3.10.0.2)\n",
      "Requirement already satisfied: srsly<3.0.0,>=2.4.3 in c:\\users\\yovinma konara\\appdata\\local\\programs\\python\\python37\\lib\\site-packages (from spacy>=3.2.3->pke==2.0.0) (2.4.4)\n",
      "Requirement already satisfied: spacy-legacy<3.1.0,>=3.0.9 in c:\\users\\yovinma konara\\appdata\\local\\programs\\python\\python37\\lib\\site-packages (from spacy>=3.2.3->pke==2.0.0) (3.0.9)\n",
      "Requirement already satisfied: langcodes<4.0.0,>=3.2.0 in c:\\users\\yovinma konara\\appdata\\local\\programs\\python\\python37\\lib\\site-packages (from spacy>=3.2.3->pke==2.0.0) (3.3.0)\n",
      "Requirement already satisfied: pathy>=0.3.5 in c:\\users\\yovinma konara\\appdata\\local\\programs\\python\\python37\\lib\\site-packages (from spacy>=3.2.3->pke==2.0.0) (0.6.2)\n",
      "Requirement already satisfied: spacy-loggers<2.0.0,>=1.0.0 in c:\\users\\yovinma konara\\appdata\\local\\programs\\python\\python37\\lib\\site-packages (from spacy>=3.2.3->pke==2.0.0) (1.0.3)\n",
      "Requirement already satisfied: wasabi<1.1.0,>=0.9.1 in c:\\users\\yovinma konara\\appdata\\local\\programs\\python\\python37\\lib\\site-packages (from spacy>=3.2.3->pke==2.0.0) (0.10.1)\n",
      "Requirement already satisfied: jinja2 in c:\\users\\yovinma konara\\appdata\\roaming\\python\\python37\\site-packages (from spacy>=3.2.3->pke==2.0.0) (3.1.2)\n",
      "Requirement already satisfied: regex>=2021.8.3 in c:\\users\\yovinma konara\\appdata\\local\\programs\\python\\python37\\lib\\site-packages (from nltk->pke==2.0.0) (2022.7.25)\n",
      "Requirement already satisfied: click in c:\\users\\yovinma konara\\appdata\\local\\programs\\python\\python37\\lib\\site-packages (from nltk->pke==2.0.0) (7.1.2)\n",
      "Requirement already satisfied: scikit-learn in c:\\users\\yovinma konara\\appdata\\local\\programs\\python\\python37\\lib\\site-packages (from sklearn->pke==2.0.0) (1.0.2)\n",
      "Requirement already satisfied: zipp>=0.5 in c:\\users\\yovinma konara\\appdata\\roaming\\python\\python37\\site-packages (from catalogue<2.1.0,>=2.0.6->spacy>=3.2.3->pke==2.0.0) (3.8.1)\n",
      "Requirement already satisfied: pyparsing!=3.0.5,>=2.0.2 in c:\\users\\yovinma konara\\appdata\\roaming\\python\\python37\\site-packages (from packaging>=20.0->spacy>=3.2.3->pke==2.0.0) (3.0.9)\n",
      "Requirement already satisfied: smart-open<6.0.0,>=5.2.1 in c:\\users\\yovinma konara\\appdata\\local\\programs\\python\\python37\\lib\\site-packages (from pathy>=0.3.5->spacy>=3.2.3->pke==2.0.0) (5.2.1)\n",
      "Requirement already satisfied: urllib3<1.27,>=1.21.1 in c:\\users\\yovinma konara\\appdata\\roaming\\python\\python37\\site-packages (from requests<3.0.0,>=2.13.0->spacy>=3.2.3->pke==2.0.0) (1.26.11)\n",
      "Requirement already satisfied: idna<4,>=2.5 in c:\\users\\yovinma konara\\appdata\\roaming\\python\\python37\\site-packages (from requests<3.0.0,>=2.13.0->spacy>=3.2.3->pke==2.0.0) (3.3)\n",
      "Requirement already satisfied: charset-normalizer<3,>=2 in c:\\users\\yovinma konara\\appdata\\roaming\\python\\python37\\site-packages (from requests<3.0.0,>=2.13.0->spacy>=3.2.3->pke==2.0.0) (2.1.0)\n",
      "Requirement already satisfied: certifi>=2017.4.17 in c:\\users\\yovinma konara\\appdata\\roaming\\python\\python37\\site-packages (from requests<3.0.0,>=2.13.0->spacy>=3.2.3->pke==2.0.0) (2022.6.15)\n",
      "Requirement already satisfied: confection<1.0.0,>=0.0.1 in c:\\users\\yovinma konara\\appdata\\local\\programs\\python\\python37\\lib\\site-packages (from thinc<8.2.0,>=8.1.0->spacy>=3.2.3->pke==2.0.0) (0.0.1)\n",
      "Requirement already satisfied: blis<0.10.0,>=0.7.8 in c:\\users\\yovinma konara\\appdata\\local\\programs\\python\\python37\\lib\\site-packages (from thinc<8.2.0,>=8.1.0->spacy>=3.2.3->pke==2.0.0) (0.7.8)\n",
      "Requirement already satisfied: colorama in c:\\users\\yovinma konara\\appdata\\roaming\\python\\python37\\site-packages (from tqdm<5.0.0,>=4.38.0->spacy>=3.2.3->pke==2.0.0) (0.4.5)\n",
      "Requirement already satisfied: MarkupSafe>=2.0 in c:\\users\\yovinma konara\\appdata\\roaming\\python\\python37\\site-packages (from jinja2->spacy>=3.2.3->pke==2.0.0) (2.1.1)\n",
      "Requirement already satisfied: threadpoolctl>=2.0.0 in c:\\users\\yovinma konara\\appdata\\local\\programs\\python\\python37\\lib\\site-packages (from scikit-learn->sklearn->pke==2.0.0) (3.1.0)\n"
     ]
    },
    {
     "name": "stderr",
     "output_type": "stream",
     "text": [
      "C:\\Users\\Yovinma Konara\\AppData\\Local\\Programs\\Python\\Python37\\lib\\runpy.py:125: RuntimeWarning: 'nltk.downloader' found in sys.modules after import of package 'nltk', but prior to execution of 'nltk.downloader'; this may result in unpredictable behaviour\n",
      "  warn(RuntimeWarning(msg))\n",
      "[nltk_data] Downloading package universal_tagset to C:\\Users\\Yovinma\n",
      "[nltk_data]     Konara\\AppData\\Roaming\\nltk_data...\n",
      "[nltk_data]   Package universal_tagset is already up-to-date!\n"
     ]
    },
    {
     "name": "stdout",
     "output_type": "stream",
     "text": [
      "Collecting en-core-web-sm==3.4.0\n",
      "  Downloading https://github.com/explosion/spacy-models/releases/download/en_core_web_sm-3.4.0/en_core_web_sm-3.4.0-py3-none-any.whl (12.8 MB)\n",
      "     ---------------------------------------- 12.8/12.8 MB 4.7 MB/s eta 0:00:00\n",
      "Requirement already satisfied: spacy<3.5.0,>=3.4.0 in c:\\users\\yovinma konara\\appdata\\local\\programs\\python\\python37\\lib\\site-packages (from en-core-web-sm==3.4.0) (3.4.1)\n",
      "Requirement already satisfied: tqdm<5.0.0,>=4.38.0 in c:\\users\\yovinma konara\\appdata\\roaming\\python\\python37\\site-packages (from spacy<3.5.0,>=3.4.0->en-core-web-sm==3.4.0) (4.64.0)\n",
      "Requirement already satisfied: pathy>=0.3.5 in c:\\users\\yovinma konara\\appdata\\local\\programs\\python\\python37\\lib\\site-packages (from spacy<3.5.0,>=3.4.0->en-core-web-sm==3.4.0) (0.6.2)\n",
      "Requirement already satisfied: pydantic!=1.8,!=1.8.1,<1.10.0,>=1.7.4 in c:\\users\\yovinma konara\\appdata\\local\\programs\\python\\python37\\lib\\site-packages (from spacy<3.5.0,>=3.4.0->en-core-web-sm==3.4.0) (1.7.4)\n",
      "Requirement already satisfied: typing-extensions<4.2.0,>=3.7.4 in c:\\users\\yovinma konara\\appdata\\local\\programs\\python\\python37\\lib\\site-packages (from spacy<3.5.0,>=3.4.0->en-core-web-sm==3.4.0) (3.10.0.2)\n",
      "Collecting srsly<3.0.0,>=2.4.3\n",
      "  Using cached srsly-2.4.4-cp37-cp37m-win_amd64.whl (448 kB)\n",
      "Requirement already satisfied: langcodes<4.0.0,>=3.2.0 in c:\\users\\yovinma konara\\appdata\\local\\programs\\python\\python37\\lib\\site-packages (from spacy<3.5.0,>=3.4.0->en-core-web-sm==3.4.0) (3.3.0)\n",
      "Requirement already satisfied: spacy-loggers<2.0.0,>=1.0.0 in c:\\users\\yovinma konara\\appdata\\local\\programs\\python\\python37\\lib\\site-packages (from spacy<3.5.0,>=3.4.0->en-core-web-sm==3.4.0) (1.0.3)\n",
      "Requirement already satisfied: wasabi<1.1.0,>=0.9.1 in c:\\users\\yovinma konara\\appdata\\local\\programs\\python\\python37\\lib\\site-packages (from spacy<3.5.0,>=3.4.0->en-core-web-sm==3.4.0) (0.10.1)\n",
      "Requirement already satisfied: cymem<2.1.0,>=2.0.2 in c:\\users\\yovinma konara\\appdata\\local\\programs\\python\\python37\\lib\\site-packages (from spacy<3.5.0,>=3.4.0->en-core-web-sm==3.4.0) (2.0.6)\n",
      "Requirement already satisfied: catalogue<2.1.0,>=2.0.6 in c:\\users\\yovinma konara\\appdata\\local\\programs\\python\\python37\\lib\\site-packages (from spacy<3.5.0,>=3.4.0->en-core-web-sm==3.4.0) (2.0.8)\n",
      "Requirement already satisfied: spacy-legacy<3.1.0,>=3.0.9 in c:\\users\\yovinma konara\\appdata\\local\\programs\\python\\python37\\lib\\site-packages (from spacy<3.5.0,>=3.4.0->en-core-web-sm==3.4.0) (3.0.9)\n",
      "Requirement already satisfied: thinc<8.2.0,>=8.1.0 in c:\\users\\yovinma konara\\appdata\\local\\programs\\python\\python37\\lib\\site-packages (from spacy<3.5.0,>=3.4.0->en-core-web-sm==3.4.0) (8.1.1)\n",
      "Requirement already satisfied: setuptools in c:\\users\\yovinma konara\\appdata\\local\\programs\\python\\python37\\lib\\site-packages (from spacy<3.5.0,>=3.4.0->en-core-web-sm==3.4.0) (47.1.0)\n",
      "Requirement already satisfied: typer<0.5.0,>=0.3.0 in c:\\users\\yovinma konara\\appdata\\local\\programs\\python\\python37\\lib\\site-packages (from spacy<3.5.0,>=3.4.0->en-core-web-sm==3.4.0) (0.3.2)\n",
      "Requirement already satisfied: requests<3.0.0,>=2.13.0 in c:\\users\\yovinma konara\\appdata\\roaming\\python\\python37\\site-packages (from spacy<3.5.0,>=3.4.0->en-core-web-sm==3.4.0) (2.28.1)\n",
      "Requirement already satisfied: preshed<3.1.0,>=3.0.2 in c:\\users\\yovinma konara\\appdata\\local\\programs\\python\\python37\\lib\\site-packages (from spacy<3.5.0,>=3.4.0->en-core-web-sm==3.4.0) (3.0.6)\n",
      "Requirement already satisfied: murmurhash<1.1.0,>=0.28.0 in c:\\users\\yovinma konara\\appdata\\local\\programs\\python\\python37\\lib\\site-packages (from spacy<3.5.0,>=3.4.0->en-core-web-sm==3.4.0) (1.0.7)\n",
      "Requirement already satisfied: numpy>=1.15.0 in c:\\users\\yovinma konara\\appdata\\local\\programs\\python\\python37\\lib\\site-packages (from spacy<3.5.0,>=3.4.0->en-core-web-sm==3.4.0) (1.21.5)\n",
      "Requirement already satisfied: jinja2 in c:\\users\\yovinma konara\\appdata\\roaming\\python\\python37\\site-packages (from spacy<3.5.0,>=3.4.0->en-core-web-sm==3.4.0) (3.1.2)\n",
      "Requirement already satisfied: packaging>=20.0 in c:\\users\\yovinma konara\\appdata\\roaming\\python\\python37\\site-packages (from spacy<3.5.0,>=3.4.0->en-core-web-sm==3.4.0) (21.3)\n",
      "Requirement already satisfied: zipp>=0.5 in c:\\users\\yovinma konara\\appdata\\roaming\\python\\python37\\site-packages (from catalogue<2.1.0,>=2.0.6->spacy<3.5.0,>=3.4.0->en-core-web-sm==3.4.0) (3.8.1)\n",
      "Requirement already satisfied: pyparsing!=3.0.5,>=2.0.2 in c:\\users\\yovinma konara\\appdata\\roaming\\python\\python37\\site-packages (from packaging>=20.0->spacy<3.5.0,>=3.4.0->en-core-web-sm==3.4.0) (3.0.9)\n",
      "Requirement already satisfied: smart-open<6.0.0,>=5.2.1 in c:\\users\\yovinma konara\\appdata\\local\\programs\\python\\python37\\lib\\site-packages (from pathy>=0.3.5->spacy<3.5.0,>=3.4.0->en-core-web-sm==3.4.0) (5.2.1)\n",
      "Requirement already satisfied: urllib3<1.27,>=1.21.1 in c:\\users\\yovinma konara\\appdata\\roaming\\python\\python37\\site-packages (from requests<3.0.0,>=2.13.0->spacy<3.5.0,>=3.4.0->en-core-web-sm==3.4.0) (1.26.11)\n",
      "Requirement already satisfied: idna<4,>=2.5 in c:\\users\\yovinma konara\\appdata\\roaming\\python\\python37\\site-packages (from requests<3.0.0,>=2.13.0->spacy<3.5.0,>=3.4.0->en-core-web-sm==3.4.0) (3.3)\n",
      "Requirement already satisfied: charset-normalizer<3,>=2 in c:\\users\\yovinma konara\\appdata\\roaming\\python\\python37\\site-packages (from requests<3.0.0,>=2.13.0->spacy<3.5.0,>=3.4.0->en-core-web-sm==3.4.0) (2.1.0)\n",
      "Requirement already satisfied: certifi>=2017.4.17 in c:\\users\\yovinma konara\\appdata\\roaming\\python\\python37\\site-packages (from requests<3.0.0,>=2.13.0->spacy<3.5.0,>=3.4.0->en-core-web-sm==3.4.0) (2022.6.15)\n",
      "Requirement already satisfied: blis<0.10.0,>=0.7.8 in c:\\users\\yovinma konara\\appdata\\local\\programs\\python\\python37\\lib\\site-packages (from thinc<8.2.0,>=8.1.0->spacy<3.5.0,>=3.4.0->en-core-web-sm==3.4.0) (0.7.8)\n",
      "Requirement already satisfied: confection<1.0.0,>=0.0.1 in c:\\users\\yovinma konara\\appdata\\local\\programs\\python\\python37\\lib\\site-packages (from thinc<8.2.0,>=8.1.0->spacy<3.5.0,>=3.4.0->en-core-web-sm==3.4.0) (0.0.1)\n",
      "Requirement already satisfied: colorama in c:\\users\\yovinma konara\\appdata\\roaming\\python\\python37\\site-packages (from tqdm<5.0.0,>=4.38.0->spacy<3.5.0,>=3.4.0->en-core-web-sm==3.4.0) (0.4.5)\n",
      "Requirement already satisfied: click<7.2.0,>=7.1.1 in c:\\users\\yovinma konara\\appdata\\local\\programs\\python\\python37\\lib\\site-packages (from typer<0.5.0,>=0.3.0->spacy<3.5.0,>=3.4.0->en-core-web-sm==3.4.0) (7.1.2)\n",
      "Requirement already satisfied: MarkupSafe>=2.0 in c:\\users\\yovinma konara\\appdata\\roaming\\python\\python37\\site-packages (from jinja2->spacy<3.5.0,>=3.4.0->en-core-web-sm==3.4.0) (2.1.1)\n",
      "Installing collected packages: srsly\n",
      "  Attempting uninstall: srsly\n",
      "    Found existing installation: srsly 1.0.5\n",
      "    Uninstalling srsly-1.0.5:\n",
      "      Successfully uninstalled srsly-1.0.5\n",
      "Successfully installed srsly-2.4.4\n",
      "[!] As of spaCy v3.0, shortcuts like 'en' are deprecated. Please use the full\n",
      "pipeline package name 'en_core_web_sm' instead.\n",
      "[+] Download and installation successful\n",
      "You can now load the package via spacy.load('en_core_web_sm')\n"
     ]
    }
   ],
   "source": [
    "%pip install sense2vec==2.0.0\n",
    "%pip install git+https://github.com/boudinfl/pke.git\n",
    "\n",
    "!python -m nltk.downloader universal_tagset\n",
    "!python -m spacy download en"
   ]
  },
  {
   "cell_type": "code",
   "execution_count": 4,
   "metadata": {},
   "outputs": [
    {
     "name": "stdout",
     "output_type": "stream",
     "text": [
      "Requirement already satisfied: wget in c:\\users\\yovinma konara\\appdata\\local\\programs\\python\\python37\\lib\\site-packages (3.2)\n",
      "Note: you may need to restart the kernel to use updated packages.\n"
     ]
    }
   ],
   "source": [
    "%pip install wget"
   ]
  },
  {
   "cell_type": "code",
   "execution_count": 5,
   "metadata": {},
   "outputs": [
    {
     "name": "stdout",
     "output_type": "stream",
     "text": [
      "\n",
      "Saved under s2v_reddit_2015_md.tar (1).gz\n"
     ]
    }
   ],
   "source": [
    "!python -m wget https://github.com/explosion/sense2vec/releases/download/v1.0.0/s2v_reddit_2015_md.tar.gz"
   ]
  },
  {
   "cell_type": "code",
   "execution_count": 6,
   "metadata": {},
   "outputs": [
    {
     "name": "stderr",
     "output_type": "stream",
     "text": [
      "x ./._s2v_old\n",
      "x ./s2v_old/\n",
      "x ./s2v_old/._freqs.json\n",
      "x ./s2v_old/freqs.json\n",
      "x ./s2v_old/._vectors\n",
      "x ./s2v_old/vectors\n",
      "x ./s2v_old/._cfg\n",
      "x ./s2v_old/cfg\n",
      "x ./s2v_old/._strings.json\n",
      "x ./s2v_old/strings.json\n",
      "x ./s2v_old/._key2row\n",
      "x ./s2v_old/key2row\n"
     ]
    }
   ],
   "source": [
    "!tar -xvf  s2v_reddit_2015_md.tar.gz"
   ]
  },
  {
   "cell_type": "code",
   "execution_count": 7,
   "metadata": {},
   "outputs": [
    {
     "name": "stdout",
     "output_type": "stream",
     "text": [
      " Volume in drive C is OS\n",
      " Volume Serial Number is 86AC-749E\n",
      "\n",
      " Directory of C:\\xampp\\htdocs\\Yovinma\\softwareproj\\s2v_old\n",
      "\n",
      "11/09/2022  10:54 PM    <DIR>          .\n",
      "11/09/2022  10:54 PM    <DIR>          ..\n",
      "18/11/2019  08:34 AM               174 ._cfg\n",
      "28/09/2019  08:56 PM               174 ._freqs.json\n",
      "28/09/2019  08:56 PM               174 ._key2row\n",
      "28/09/2019  08:56 PM               174 ._strings.json\n",
      "28/09/2019  08:56 PM               174 ._vectors\n",
      "18/11/2019  08:34 AM               424 cfg\n",
      "28/09/2019  08:56 PM        49,969,681 freqs.json\n",
      "28/09/2019  08:56 PM        16,492,891 key2row\n",
      "28/09/2019  08:56 PM        26,188,439 strings.json\n",
      "28/09/2019  08:56 PM       611,973,760 vectors\n",
      "              10 File(s)    704,626,065 bytes\n",
      "               2 Dir(s)  333,476,528,128 bytes free\n"
     ]
    }
   ],
   "source": [
    "%ls s2v_old"
   ]
  },
  {
   "cell_type": "code",
   "execution_count": 8,
   "metadata": {},
   "outputs": [],
   "source": [
    "f={\"input_text\": \"The Greek historian knew what he was talking about. The Nile River fed Egyptian civilization for hundreds of years. The Longest River the Nile is 4,160 miles long—the world’s longest river. It begins near the equator in Africa and flows north to the Mediterranean Sea. In the south the Nile churns with cataracts. A cataract is a waterfall. Near the sea the Nile branches into a delta. A delta is an area near a river’s mouth where the water deposits fine soil called silt. In the delta, the Nile divides into many streams. The river is called the upper Nile in the south and the lower Nile in the north. For centuries, heavy rains in Ethiopia caused the Nile to flood every summer. The floods deposited rich soil along the Nile’s shores. This soil was fertile, which means it was good for growing crops. Unlike the Tigris and Euphrates, the Nile River flooded at the same time every year, so farmers could predict when to plant their crops. Red Land, Black Land The ancient Egyptians lived in narrow bands of land on each side of the Nile. They called this region the black land because of the fertile soil that the floods deposited. The red land was the barren desert beyond the fertile region. Weather in Egypt was almost always the same. Eight months of the year were sunny and hot. The four months of winter were sunny but cooler. Most of the region received only an inch of rain a year. The parts of Egypt not near the Nile were a desert. Isolation The harsh desert acted as a barrier to keep out enemies. The Mediterranean coast was swampy and lacked good harbors. For these reasons, early Egyptians stayed close to home. Each year, Egyptian farmers watched for white birds called ibises, which flew up from the south. When the birds arrived, the annual flood waters would soon follow. After the waters drained away, farmers could plant seeds in the fertile soil. Agricultural Techniques By about 2400 B.C., farmers used technology to expand their farmland. Working together, they dug irrigation canals that carried river water to dry areas. Then they used a tool called a shaduf to spread the water across the fields. These innovative, or new, techniques gave them more farmland. Egyptian Crops Ancient Egyptians grew a large variety of foods. They were the first to grind wheat into flour and to mix the flour with yeast and water to make dough rise into bread. They grew vegetables such as lettuce, radishes, asparagus, and cucumbers. Fruits included dates, figs, grapes, and watermelons. Egyptians also grew the materials for their clothes. They were the first to weave fibers from flax plants into a fabric called linen. Lightweight linen cloth was perfect for hot Egyptian days. Men wore linen wraps around their waists. Women wore loose, sleeveless dresses. Egyptians also wove marsh grasses into sandals. Egyptian Houses Egyptians built houses using bricks made of mud from the Nile mixed with chopped straw. They placed narrow windows high in the walls to reduce bright sunlight. Egyptians often painted walls white to reflect the blazing heat. They wove sticks and palm trees to make roofs. Inside, woven reed mats covered the dirt floor. Most Egyptians slept on mats covered with linen sheets. Wealthy citizens enjoyed bed frames and cushions. Egyptian nobles had fancier homes with tree-lined courtyards for shade. Some had a pool filled with lotus blossoms and fish. Poorer Egyptians simply went to the roof to cool off after sunset. They often cooked, ate, and even slept outside. Egypt’s economy depended on farming. However, the natural resources of the area allowed other economic activities to develop too. The Egyptians wanted valuable metals that were not found in the black land. For example, they wanted copper to make tools and weapons. Egyptians looked for copper as early as 6000 B.C. Later they learned that iron was stronger, and they sought it as well. Ancient Egyptians also desired gold for its bright beauty. The Egyptian word for gold was nub. Nubia was the Egyptian name for the area of the upper Nile that had the richest gold mines in Africa. Mining minerals was difficult. Veins (long streaks) of copper, iron, and bronze were hidden inside desert mountains in the hot Sinai Peninsula, east of Egypt. Even during the cool season, chipping minerals out of the rock was miserable work. Egyptians mined precious stones too. They were probably the first people in the world to mine turquoise. The Egyptians also mined lapis lazuli. These beautiful blue stones were used in jewelry.The Nile had fish and other wildlife that Egyptians wanted. To go on the river, Egyptians made lightweight rafts by binding together reeds. They used everything from nets to harpoons to catch fish. One ancient painting even shows a man ready to hit a catfish with a wooden hammer. More adventurous hunters speared hippopotamuses and crocodiles along the Nile. Egyptians also captured quail with nets. They used boomerangs to knock down flying ducks and geese. (A boomerang is a curved stick that returns to the person who threw it.) Eventually, Egyptians equipped their reed boats with sails and oars. The Nile then became a highway. The river’s current was slow, so boaters used paddles to go faster when they traveled north with the current. Going south, they raised a sail and let the winds that blew in that direction push them. The Nile provided so well for Egyptians that sometimes they had surpluses, or more goods than they needed. They began to trade with each other. Ancient Egypt had no money, so people exchanged goods that they grew or made. This method of trade is called bartering. Egypt prospered along the Nile. This prosperity made life easier and provided greater opportunities for many Egyptians. When farmers produce food surpluses, the society’s economy begins to expand. Cities emerge as centers of culture and power, and people learn to do jobs that do not involve agriculture. For example, some ancient Egyptians learned to be scribes, people whose job was to write and keep records. As Egyptian civilization grew more complex, people took on jobs other than that of a farmer or scribe. Some skilled artisans erected stone or brick houses and temples. Other artisans made pottery, incense, mats, furniture, linen clothing, sandals, or jewelry. A few Egyptians traveled to the upper Nile to trade with other Africans. These traders took Egyptian products such as scrolls, linen, gold, and jewelry. They brought back exotic woods, animal skins, and live beasts. As Egypt grew, so did its need to organize. Egyptians created a government that divided the empire into 42 provinces. Many officials worked to keep the provinces running smoothly. Egypt also created an army to defend itself. One of the highest jobs in Egypt was to be a priest. Priests followed formal rituals and took care of the temples. Before entering a temple, a priest bathed and put on special linen garments and white sandals. Priests cleaned the sacred statues in temples, changed their clothes, and even fed them meals. Together, the priests and the ruler held ceremonies to please the gods. Egyptians believed that if the gods were angry, the Nile would not flood. As a result, crops would not grow, and people would die. So the ruler and the priests tried hard to keep the gods happy. By doing so, they hoped to maintain the social and political order. Slaves were at the bottom of society. In Egypt, people became slaves if they owed a debt, committed a crime, or were captured in war. Egyptian slaves were usually freed after a period of time. One exception was the slaves who had to work in the mines. Many died from the exhausting labor. Egypt was one of the best places in the ancient world to be a woman. Unlike other ancient African cultures, in Egyptian society men and women had fairly equal rights. For example, they could both own and manage their own property. The main job of most women was to care for their children and home, but some did other jobs too. Some women wove cloth. Others worked with their husbands in fields or workshops. Some women, such as Queen Tiy, even rose to important positions in the government. Children in Egypt played with toys such as dolls, animal figures, board games, and marbles. Their parents made the toys from wood or clay. Boys and girls also played rough physical games with balls made of leather or reeds. Boys and some girls from wealthy families went to schools run by scribes or priests. Most other children learned their parents’ jobs. Almost all Egyptians married when they were in their early teens. As in many ancient societies, much of the knowledge of Egypt came about as priests studied the world to find ways to please the gods. Other advances came about because of practical discoveries. Egyptian priests studied the sky as part of their religion. About 5,000 years ago, they noticed that a star now called Sirius appeared shortly before the Nile began to flood. The star returned to the same position in 365 days. Based on that, Egyptians developed the world’s first practical calendar. The Egyptians developed some of the first geometry. Each year the Nile’s floods washed away land boundaries. To restore property lines, surveyors measured the land by using ropes that were knotted at regular intervals. Geometric shapes such as squares and triangles were sacred to Egyptians. Architects used them in the design of royal temples and monuments. Egyptian doctors often prepared dead bodies for burial, so they knew the parts of the body. That knowledge helped them perform some of the world’s first surgery. Some doctors specialized in using medicines made of herbs. Egyptian medicine was far from perfect. Doctors believed that the heart controlled thought and the brain circulated blood, which is the opposite of what is known now. Some Egyptian treatments would raise eyebrows today. One “cure” for an upset stomach was to eat a hog’s tooth crushed inside sugar cakes! Beginning about 3000 B.C., Egyptians developed a writing system using hieroglyphs. Hieroglyphs Hieroglyphs are pictures that stand for different words or sounds. Early Egyptians created a hieroglyphic system with about 700 characters. Over time the system grew to include more than 6,000 symbols. The Egyptians also developed a paperlike material called papyrus papyrus from a reed of the same name. Egyptians cut the stems into strips, pressed them, and dried them into sheets that could be rolled into scrolls. Papyrus scrolls were light and easy to carry. With them, Egyptians created some of the first books. Legend says a king named Narmer united Upper and Lower Egypt. Some historians think Narmer actually represents several kings who gradually joined the two lands. After Egypt was united, its ruler wore the Double Crown. It combined the red Crown of Lower Egypt with the white Crown of Upper Egypt. The first dynasty of the Egyptian empire began about 2925 B.C. A dynasty is a line of rulers from the same family. When a king died, one of his children usually took his place as ruler. The order in which members of a royal family inherit a throne is called the succession. More than 30 dynasties ruled ancient Egypt. Historians divide ancient Egyptian dynasties into the Old Kingdom, the Middle Kingdom, and the New Kingdom. The Old Kingdom started about 2575 B.C., when the Egyptian empire was gaining strength. The king of Egypt became known as the pharaoh pharaoh. The word pharaoh meant “great house,” and it was originally used to describe the king’s palace. Later it became the title of the king himself. The pharaoh ruled from the capital city of Memphis. The ancient Egyptians thought the pharaoh was a child of the gods and a god himself. Egyptians believed that if the pharaoh and his subjects honored the gods, their lives would be happy. If Egypt suffered hard times for a long period, the people blamed the pharaoh for angering the gods. In such a case, a rival might drive him from power and start a new dynasty. Because the pharaoh was thought to be a god, government and religion were not separate in ancient Egypt. Priests had much power in the government. Many high officials were priests. The first rulers of Egypt were often buried in an underground tomb topped by mud brick. Soon, kings wanted more permanent monuments. They replaced the mud brick with a small pyramid of brick or stone. A pyramid is a structure shaped like a triangle, with four sides that meet at a point. About 2630 B.C., King Djoser built a much larger pyramid over his tomb. It is called a step pyramid because its sides rise in a series of giant steps. It is the oldest-known large stone structure in the world. About 80 years later, a pharaoh named Khufu decided he wanted a monument that would show the world how great he was. He ordered the construction of the largest pyramid ever built. Along its base, each side was about 760 feet long. The core was built from 2.3 million blocks of stone. Building the Great Pyramid was hard work. Miners cut the huge blocks of stone using copper saws and chisels. These tools were much softer than the iron tools developed later. Other teams of workers pulled the stone slabs up long, sloping ramps to their place on the pyramid. Near the top of the pyramid, the ramps ended. Workers dragged each heavy block hundreds of feet and then set it in place. Farmers did the heavy labor of hauling stone during the season when the Nile flooded their fields. Skilled stonecutters and overseers worked year-round. The Great Pyramid took nearly 20 years to build. An estimated 20,000 Egyptians worked on it. A city called Giza was built for the pyramid workers and the people who fed, clothed, and housed them. Eventually, Egyptians stopped building pyramids. One reason is that the pyramids drew attention to the tombs inside them. Grave robbers broke into the tombs to steal the treasure buried with the pharaohs. Sometimes they also stole the mummies. Egyptians believed that if a tomb was robbed, the person buried there could not have a happy afterlife. During the New Kingdom, pharaohs began building more secret tombs in an area called the Valley of the Kings. The burial chambers were hidden in mountains near the Nile. This way, the pharaohs hoped to protect their bodies and treasures from robbers. Both the pyramids and later tombs had several passageways leading to different rooms. This was to confuse grave robbers about which passage to take. Sometimes relatives, such as the queen, were buried in the extra rooms. Tombs were supposed to be the palaces of pharaohs in the afterlife. Mourners filled the tomb with objects ranging from food to furniture that the mummified pharaoh would need. Some tombs contained small statues that were supposed to be servants for the dead person. Egyptian artists decorated royal tombs with wall paintings and sculptures carved into the walls. Art was meant to glorify both the gods and the dead person. A sculpture of a dead pharaoh had “perfect” features, no matter how he really looked. Artists also followed strict rules about how to portray humans. Paintings showed a person’s head, arms, and legs from the side. They showed the front of the body from the neck down to the waist. Wall paintings showed pharaohs enjoying themselves so they could have a happy afterlife. One favorite scene was of the pharaoh fishing in a papyrus marsh. Warlike kings were often portrayed in battle. Scenes might also show people providing for the needs of the dead person. Such activities included growing and preparing food, caring for animals, and building boats. As hard as the pharaohs tried to hide themselves, robbers stole the treasures from almost every tomb. Only a secret tomb built for a New Kingdom pharaoh was ever found with much of its treasure untouched. The dazzling riches found in this tomb show how much wealth the pharaohs spent preparing for the afterlife. By about 2130 B.C., Egyptian kings began to lose their power to local rulers of the provinces. For about 500 more years, the kings held Egypt together, but with a much weaker central government. This period of Egyptian history is called the Middle Kingdom. Rulers during the Middle Kingdom also faced challenges from outside Egypt. A nomadic people called the Hyksos invaded Egypt from the northeast. Their army conquered by using better weapons and horse-drawn chariots, which were new to Egyptians. After about 100 years, the Egyptians drove out the Hyksos and began the New Kingdom.\"}"
   ]
  },
  {
   "cell_type": "code",
   "execution_count": null,
   "metadata": {},
   "outputs": [],
   "source": []
  },
  {
   "cell_type": "code",
   "execution_count": 4,
   "metadata": {},
   "outputs": [
    {
     "name": "stdout",
     "output_type": "stream",
     "text": [
      "Requirement already satisfied: pip in c:\\users\\yovinma konara\\appdata\\roaming\\python\\python37\\site-packages (22.2.2)Note: you may need to restart the kernel to use updated packages.\n",
      "\n"
     ]
    }
   ],
   "source": [
    "%pip install --upgrade pip --user"
   ]
  },
  {
   "cell_type": "code",
   "execution_count": null,
   "metadata": {
    "scrolled": true
   },
   "outputs": [],
   "source": [
    "%pip uninstall spacy==3.4.0"
   ]
  },
  {
   "cell_type": "code",
   "execution_count": 22,
   "metadata": {},
   "outputs": [
    {
     "name": "stdout",
     "output_type": "stream",
     "text": [
      "\n",
      "| Loading compatibility table...\n",
      "/ Loading compatibility table...\n",
      "- Loading compatibility table...\n",
      "\\ Loading compatibility table...\n",
      "| Loading compatibility table...\n",
      "/ Loading compatibility table...\n",
      "- Loading compatibility table...\n",
      "\\ Loading compatibility table...\n",
      "| Loading compatibility table...\n",
      "/ Loading compatibility table...\n",
      "- Loading compatibility table...\n",
      "\\ Loading compatibility table...\n",
      "| Loading compatibility table...\n",
      "/ Loading compatibility table...\n",
      "- Loading compatibility table...\n",
      "\\ Loading compatibility table...\n",
      "| Loading compatibility table...\n",
      "/ Loading compatibility table...\n",
      "- Loading compatibility table...\n",
      "\\ Loading compatibility table...\n",
      "| Loading compatibility table...\n",
      "\u001b[2K[+] Loaded compatibility table\n",
      "\u001b[1m\n",
      "================= Installed pipeline packages (spaCy v3.4.0) =================\u001b[0m\n",
      "[i] spaCy installation: C:\\Users\\Yovinma\n",
      "Konara\\AppData\\Local\\Programs\\Python\\Python37\\lib\\site-packages\\spacy\n",
      "\n",
      "NAME             SPACY            VERSION      \n",
      "en_core_web_sm   >=3.4.0,<3.5.0   3.4.0     [+]\n",
      "\n"
     ]
    }
   ],
   "source": [
    "!python -m spacy validate"
   ]
  },
  {
   "cell_type": "code",
   "execution_count": 23,
   "metadata": {},
   "outputs": [
    {
     "name": "stdout",
     "output_type": "stream",
     "text": [
      "Requirement already satisfied: numpy==1.21.5 in c:\\users\\yovinma konara\\appdata\\local\\programs\\python\\python37\\lib\\site-packages (1.21.5)\n",
      "Note: you may need to restart the kernel to use updated packages.\n"
     ]
    }
   ],
   "source": [
    "%pip install numpy==1.21.5"
   ]
  },
  {
   "cell_type": "code",
   "execution_count": 24,
   "metadata": {},
   "outputs": [
    {
     "name": "stdout",
     "output_type": "stream",
     "text": [
      "Requirement already satisfied: scipy==1.4.1 in c:\\users\\yovinma konara\\appdata\\local\\programs\\python\\python37\\lib\\site-packages (1.4.1)\n",
      "Requirement already satisfied: numpy>=1.13.3 in c:\\users\\yovinma konara\\appdata\\local\\programs\\python\\python37\\lib\\site-packages (from scipy==1.4.1) (1.21.5)\n",
      "Note: you may need to restart the kernel to use updated packages.\n",
      "Note: you may need to restart the kernel to use updated packages.\n"
     ]
    },
    {
     "name": "stderr",
     "output_type": "stream",
     "text": [
      "ERROR: Could not find a version that satisfies the requirement spacy.component (from versions: none)\n",
      "ERROR: No matching distribution found for spacy.component\n"
     ]
    }
   ],
   "source": [
    "%pip install scipy==1.4.1"
   ]
  },
  {
   "cell_type": "code",
   "execution_count": 1,
   "metadata": {},
   "outputs": [],
   "source": [
    "\n",
    "import spacy"
   ]
  },
  {
   "cell_type": "code",
   "execution_count": 2,
   "metadata": {},
   "outputs": [
    {
     "name": "stderr",
     "output_type": "stream",
     "text": [
      "[nltk_data] Downloading package brown to C:\\Users\\Yovinma\n",
      "[nltk_data]     Konara\\AppData\\Roaming\\nltk_data...\n",
      "[nltk_data]   Package brown is already up-to-date!\n",
      "[nltk_data] Downloading package stopwords to C:\\Users\\Yovinma\n",
      "[nltk_data]     Konara\\AppData\\Roaming\\nltk_data...\n",
      "[nltk_data]   Package stopwords is already up-to-date!\n",
      "[nltk_data] Downloading collection 'popular'\n",
      "[nltk_data]    | \n",
      "[nltk_data]    | Downloading package cmudict to C:\\Users\\Yovinma\n",
      "[nltk_data]    |     Konara\\AppData\\Roaming\\nltk_data...\n",
      "[nltk_data]    |   Package cmudict is already up-to-date!\n",
      "[nltk_data]    | Downloading package gazetteers to C:\\Users\\Yovinma\n",
      "[nltk_data]    |     Konara\\AppData\\Roaming\\nltk_data...\n",
      "[nltk_data]    |   Package gazetteers is already up-to-date!\n",
      "[nltk_data]    | Downloading package genesis to C:\\Users\\Yovinma\n",
      "[nltk_data]    |     Konara\\AppData\\Roaming\\nltk_data...\n",
      "[nltk_data]    |   Package genesis is already up-to-date!\n",
      "[nltk_data]    | Downloading package gutenberg to C:\\Users\\Yovinma\n",
      "[nltk_data]    |     Konara\\AppData\\Roaming\\nltk_data...\n",
      "[nltk_data]    |   Package gutenberg is already up-to-date!\n",
      "[nltk_data]    | Downloading package inaugural to C:\\Users\\Yovinma\n",
      "[nltk_data]    |     Konara\\AppData\\Roaming\\nltk_data...\n",
      "[nltk_data]    |   Package inaugural is already up-to-date!\n",
      "[nltk_data]    | Downloading package movie_reviews to C:\\Users\\Yovinma\n",
      "[nltk_data]    |     Konara\\AppData\\Roaming\\nltk_data...\n",
      "[nltk_data]    |   Package movie_reviews is already up-to-date!\n",
      "[nltk_data]    | Downloading package names to C:\\Users\\Yovinma\n",
      "[nltk_data]    |     Konara\\AppData\\Roaming\\nltk_data...\n",
      "[nltk_data]    |   Package names is already up-to-date!\n",
      "[nltk_data]    | Downloading package shakespeare to C:\\Users\\Yovinma\n",
      "[nltk_data]    |     Konara\\AppData\\Roaming\\nltk_data...\n",
      "[nltk_data]    |   Package shakespeare is already up-to-date!\n",
      "[nltk_data]    | Downloading package stopwords to C:\\Users\\Yovinma\n",
      "[nltk_data]    |     Konara\\AppData\\Roaming\\nltk_data...\n",
      "[nltk_data]    |   Package stopwords is already up-to-date!\n",
      "[nltk_data]    | Downloading package treebank to C:\\Users\\Yovinma\n",
      "[nltk_data]    |     Konara\\AppData\\Roaming\\nltk_data...\n",
      "[nltk_data]    |   Package treebank is already up-to-date!\n",
      "[nltk_data]    | Downloading package twitter_samples to\n",
      "[nltk_data]    |     C:\\Users\\Yovinma\n",
      "[nltk_data]    |     Konara\\AppData\\Roaming\\nltk_data...\n",
      "[nltk_data]    |   Package twitter_samples is already up-to-date!\n",
      "[nltk_data]    | Downloading package omw to C:\\Users\\Yovinma\n",
      "[nltk_data]    |     Konara\\AppData\\Roaming\\nltk_data...\n",
      "[nltk_data]    |   Package omw is already up-to-date!\n",
      "[nltk_data]    | Downloading package omw-1.4 to C:\\Users\\Yovinma\n",
      "[nltk_data]    |     Konara\\AppData\\Roaming\\nltk_data...\n",
      "[nltk_data]    |   Package omw-1.4 is already up-to-date!\n",
      "[nltk_data]    | Downloading package wordnet to C:\\Users\\Yovinma\n",
      "[nltk_data]    |     Konara\\AppData\\Roaming\\nltk_data...\n",
      "[nltk_data]    |   Package wordnet is already up-to-date!\n",
      "[nltk_data]    | Downloading package wordnet2021 to C:\\Users\\Yovinma\n",
      "[nltk_data]    |     Konara\\AppData\\Roaming\\nltk_data...\n",
      "[nltk_data]    |   Package wordnet2021 is already up-to-date!\n",
      "[nltk_data]    | Downloading package wordnet31 to C:\\Users\\Yovinma\n",
      "[nltk_data]    |     Konara\\AppData\\Roaming\\nltk_data...\n",
      "[nltk_data]    |   Package wordnet31 is already up-to-date!\n",
      "[nltk_data]    | Downloading package wordnet_ic to C:\\Users\\Yovinma\n",
      "[nltk_data]    |     Konara\\AppData\\Roaming\\nltk_data...\n",
      "[nltk_data]    |   Package wordnet_ic is already up-to-date!\n",
      "[nltk_data]    | Downloading package words to C:\\Users\\Yovinma\n",
      "[nltk_data]    |     Konara\\AppData\\Roaming\\nltk_data...\n",
      "[nltk_data]    |   Package words is already up-to-date!\n",
      "[nltk_data]    | Downloading package maxent_ne_chunker to\n",
      "[nltk_data]    |     C:\\Users\\Yovinma\n",
      "[nltk_data]    |     Konara\\AppData\\Roaming\\nltk_data...\n",
      "[nltk_data]    |   Package maxent_ne_chunker is already up-to-date!\n",
      "[nltk_data]    | Downloading package punkt to C:\\Users\\Yovinma\n",
      "[nltk_data]    |     Konara\\AppData\\Roaming\\nltk_data...\n",
      "[nltk_data]    |   Package punkt is already up-to-date!\n",
      "[nltk_data]    | Downloading package snowball_data to C:\\Users\\Yovinma\n",
      "[nltk_data]    |     Konara\\AppData\\Roaming\\nltk_data...\n",
      "[nltk_data]    |   Package snowball_data is already up-to-date!\n",
      "[nltk_data]    | Downloading package averaged_perceptron_tagger to\n",
      "[nltk_data]    |     C:\\Users\\Yovinma\n",
      "[nltk_data]    |     Konara\\AppData\\Roaming\\nltk_data...\n",
      "[nltk_data]    |   Package averaged_perceptron_tagger is already up-\n",
      "[nltk_data]    |       to-date!\n",
      "[nltk_data]    | \n",
      "[nltk_data]  Done downloading collection popular\n",
      "[nltk_data] Downloading package brown to C:\\Users\\Yovinma\n",
      "[nltk_data]     Konara\\AppData\\Roaming\\nltk_data...\n",
      "[nltk_data]   Package brown is already up-to-date!\n",
      "[nltk_data] Downloading package stopwords to C:\\Users\\Yovinma\n",
      "[nltk_data]     Konara\\AppData\\Roaming\\nltk_data...\n",
      "[nltk_data]   Package stopwords is already up-to-date!\n",
      "[nltk_data] Downloading collection 'popular'\n",
      "[nltk_data]    | \n",
      "[nltk_data]    | Downloading package cmudict to C:\\Users\\Yovinma\n",
      "[nltk_data]    |     Konara\\AppData\\Roaming\\nltk_data...\n",
      "[nltk_data]    |   Package cmudict is already up-to-date!\n",
      "[nltk_data]    | Downloading package gazetteers to C:\\Users\\Yovinma\n",
      "[nltk_data]    |     Konara\\AppData\\Roaming\\nltk_data...\n",
      "[nltk_data]    |   Package gazetteers is already up-to-date!\n",
      "[nltk_data]    | Downloading package genesis to C:\\Users\\Yovinma\n",
      "[nltk_data]    |     Konara\\AppData\\Roaming\\nltk_data...\n",
      "[nltk_data]    |   Package genesis is already up-to-date!\n",
      "[nltk_data]    | Downloading package gutenberg to C:\\Users\\Yovinma\n",
      "[nltk_data]    |     Konara\\AppData\\Roaming\\nltk_data...\n",
      "[nltk_data]    |   Package gutenberg is already up-to-date!\n",
      "[nltk_data]    | Downloading package inaugural to C:\\Users\\Yovinma\n",
      "[nltk_data]    |     Konara\\AppData\\Roaming\\nltk_data...\n",
      "[nltk_data]    |   Package inaugural is already up-to-date!\n",
      "[nltk_data]    | Downloading package movie_reviews to C:\\Users\\Yovinma\n",
      "[nltk_data]    |     Konara\\AppData\\Roaming\\nltk_data...\n",
      "[nltk_data]    |   Package movie_reviews is already up-to-date!\n",
      "[nltk_data]    | Downloading package names to C:\\Users\\Yovinma\n",
      "[nltk_data]    |     Konara\\AppData\\Roaming\\nltk_data...\n",
      "[nltk_data]    |   Package names is already up-to-date!\n",
      "[nltk_data]    | Downloading package shakespeare to C:\\Users\\Yovinma\n",
      "[nltk_data]    |     Konara\\AppData\\Roaming\\nltk_data...\n",
      "[nltk_data]    |   Package shakespeare is already up-to-date!\n",
      "[nltk_data]    | Downloading package stopwords to C:\\Users\\Yovinma\n",
      "[nltk_data]    |     Konara\\AppData\\Roaming\\nltk_data...\n",
      "[nltk_data]    |   Package stopwords is already up-to-date!\n",
      "[nltk_data]    | Downloading package treebank to C:\\Users\\Yovinma\n",
      "[nltk_data]    |     Konara\\AppData\\Roaming\\nltk_data...\n",
      "[nltk_data]    |   Package treebank is already up-to-date!\n",
      "[nltk_data]    | Downloading package twitter_samples to\n",
      "[nltk_data]    |     C:\\Users\\Yovinma\n",
      "[nltk_data]    |     Konara\\AppData\\Roaming\\nltk_data...\n",
      "[nltk_data]    |   Package twitter_samples is already up-to-date!\n",
      "[nltk_data]    | Downloading package omw to C:\\Users\\Yovinma\n",
      "[nltk_data]    |     Konara\\AppData\\Roaming\\nltk_data...\n",
      "[nltk_data]    |   Package omw is already up-to-date!\n",
      "[nltk_data]    | Downloading package omw-1.4 to C:\\Users\\Yovinma\n",
      "[nltk_data]    |     Konara\\AppData\\Roaming\\nltk_data...\n",
      "[nltk_data]    |   Package omw-1.4 is already up-to-date!\n",
      "[nltk_data]    | Downloading package wordnet to C:\\Users\\Yovinma\n",
      "[nltk_data]    |     Konara\\AppData\\Roaming\\nltk_data...\n",
      "[nltk_data]    |   Package wordnet is already up-to-date!\n",
      "[nltk_data]    | Downloading package wordnet2021 to C:\\Users\\Yovinma\n",
      "[nltk_data]    |     Konara\\AppData\\Roaming\\nltk_data...\n",
      "[nltk_data]    |   Package wordnet2021 is already up-to-date!\n",
      "[nltk_data]    | Downloading package wordnet31 to C:\\Users\\Yovinma\n",
      "[nltk_data]    |     Konara\\AppData\\Roaming\\nltk_data...\n",
      "[nltk_data]    |   Package wordnet31 is already up-to-date!\n",
      "[nltk_data]    | Downloading package wordnet_ic to C:\\Users\\Yovinma\n",
      "[nltk_data]    |     Konara\\AppData\\Roaming\\nltk_data...\n",
      "[nltk_data]    |   Package wordnet_ic is already up-to-date!\n",
      "[nltk_data]    | Downloading package words to C:\\Users\\Yovinma\n",
      "[nltk_data]    |     Konara\\AppData\\Roaming\\nltk_data...\n",
      "[nltk_data]    |   Package words is already up-to-date!\n",
      "[nltk_data]    | Downloading package maxent_ne_chunker to\n",
      "[nltk_data]    |     C:\\Users\\Yovinma\n",
      "[nltk_data]    |     Konara\\AppData\\Roaming\\nltk_data...\n",
      "[nltk_data]    |   Package maxent_ne_chunker is already up-to-date!\n",
      "[nltk_data]    | Downloading package punkt to C:\\Users\\Yovinma\n",
      "[nltk_data]    |     Konara\\AppData\\Roaming\\nltk_data...\n",
      "[nltk_data]    |   Package punkt is already up-to-date!\n",
      "[nltk_data]    | Downloading package snowball_data to C:\\Users\\Yovinma\n",
      "[nltk_data]    |     Konara\\AppData\\Roaming\\nltk_data...\n",
      "[nltk_data]    |   Package snowball_data is already up-to-date!\n",
      "[nltk_data]    | Downloading package averaged_perceptron_tagger to\n",
      "[nltk_data]    |     C:\\Users\\Yovinma\n",
      "[nltk_data]    |     Konara\\AppData\\Roaming\\nltk_data...\n",
      "[nltk_data]    |   Package averaged_perceptron_tagger is already up-\n",
      "[nltk_data]    |       to-date!\n",
      "[nltk_data]    | \n",
      "[nltk_data]  Done downloading collection popular\n"
     ]
    }
   ],
   "source": [
    "from Questgen import main"
   ]
  },
  {
   "cell_type": "code",
   "execution_count": 3,
   "metadata": {},
   "outputs": [],
   "source": [
    "from pprint import pprint"
   ]
  },
  {
   "cell_type": "code",
   "execution_count": 4,
   "metadata": {},
   "outputs": [
    {
     "name": "stdout",
     "output_type": "stream",
     "text": [
      "{'input_text': 'The Greek historian knew what he was talking about. The Nile River fed Egyptian civilization for hundreds of years. The Longest River the Nile is 4,160 miles longthe worlds longest river. It begins near the equator in Africa and flows north to the Mediterranean Sea. In the south the Nile churns with cataracts. A cataract is a waterfall. Near the sea the Nile branches into a delta. A delta is an area near a rivers mouth where the water deposits fine soil called silt. In the delta, the Nile divides into many streams. The river is called the upper Nile in the south and the lower Nile in the north. For centuries, heavy rains in Ethiopia caused the Nile to flood every summer. The floods deposited rich soil along the Niles shores. This soil was fertile, which means it was good for growing crops. Unlike the Tigris and Euphrates, the Nile River flooded at the same time every year, so farmers could predict when to plant their crops. Red Land, Black Land The ancient Egyptians lived in narrow bands of land on each side of the Nile. They called this region the black land because of the fertile soil that the floods deposited. The red land was the barren desert beyond the fertile region. Weather in Egypt was almost always the same. Eight months of the year were sunny and hot. The four months of winter were sunny but cooler. Most of the region received only an inch of rain a year. The parts of Egypt not near the Nile were a desert. Isolation The harsh desert acted as a barrier to keep out enemies. The Mediterranean coast was swampy and lacked good harbors. For these reasons, early Egyptians stayed close to home. Each year, Egyptian farmers watched for white birds called ibises, which flew up from the south. When the birds arrived, the annual flood waters would soon follow. After the waters drained away, farmers could plant seeds in the fertile soil. Agricultural Techniques By about 2400 B.C., farmers used technology to expand their farmland. Working together, they dug irrigation canals that carried river water to dry areas. Then they used a tool called a shaduf to spread the water across the fields. These innovative, or new, techniques gave them more farmland. Egyptian Crops Ancient Egyptians grew a large variety of foods. They were the first to grind wheat into flour and to mix the flour with yeast and water to make dough rise into bread. They grew vegetables such as lettuce, radishes, asparagus, and cucumbers. Fruits included dates, figs, grapes, and watermelons. Egyptians also grew the materials for their clothes. They were the first to weave fibers from flax plants into a fabric called linen. Lightweight linen cloth was perfect for hot Egyptian days. Men wore linen wraps around their waists. Women wore loose, sleeveless dresses. Egyptians also wove marsh grasses into sandals. Egyptian Houses Egyptians built houses using bricks made of mud from the Nile mixed with chopped straw. They placed narrow windows high in the walls to reduce bright sunlight. Egyptians often painted walls white to reflect the blazing heat. They wove sticks and palm trees to make roofs. Inside, woven reed mats covered the dirt floor. Most Egyptians slept on mats covered with linen sheets. Wealthy citizens enjoyed bed frames and cushions. Egyptian nobles had fancier homes with tree-lined courtyards for shade. Some had a pool filled with lotus blossoms and fish. Poorer Egyptians simply went to the roof to cool off after sunset. They often cooked, ate, and even slept outside. Egypts economy depended on farming. However, the natural resources of the area allowed other economic activities to develop too. The Egyptians wanted valuable metals that were not found in the black land. For example, they wanted copper to make tools and weapons. Egyptians looked for copper as early as 6000 B.C. Later they learned that iron was stronger, and they sought it as well. Ancient Egyptians also desired gold for its bright beauty. The Egyptian word for gold was nub. Nubia was the Egyptian name for the area of the upper Nile that had the richest gold mines in Africa. Mining minerals was difficult. Veins (long streaks) of copper, iron, and bronze were hidden inside desert mountains in the hot Sinai Peninsula, east of Egypt. Even during the cool season, chipping minerals out of the rock was miserable work. Egyptians mined precious stones too. They were probably the first people in the world to mine turquoise. The Egyptians also mined lapis lazuli. These beautiful blue stones were used in jewelry.The Nile had fish and other wildlife that Egyptians wanted. To go on the river, Egyptians made lightweight rafts by binding together reeds. They used everything from nets to harpoons to catch fish. One ancient painting even shows a man ready to hit a catfish with a wooden hammer. More adventurous hunters speared hippopotamuses and crocodiles along the Nile. Egyptians also captured quail with nets. They used boomerangs to knock down flying ducks and geese. (A boomerang is a curved stick that returns to the person who threw it.) Eventually, Egyptians equipped their reed boats with sails and oars. The Nile then became a highway. The rivers current was slow, so boaters used paddles to go faster when they traveled north with the current. Going south, they raised a sail and let the winds that blew in that direction push them. The Nile provided so well for Egyptians that sometimes they had surpluses, or more goods than they needed. They began to trade with each other. Ancient Egypt had no money, so people exchanged goods that they grew or made. This method of trade is called bartering. Egypt prospered along the Nile. This prosperity made life easier and provided greater opportunities for many Egyptians. When farmers produce food surpluses, the societys economy begins to expand. Cities emerge as centers of culture and power, and people learn to do jobs that do not involve agriculture. For example, some ancient Egyptians learned to be scribes, people whose job was to write and keep records. As Egyptian civilization grew more complex, people took on jobs other than that of a farmer or scribe. Some skilled artisans erected stone or brick houses and temples. Other artisans made pottery, incense, mats, furniture, linen clothing, sandals, or jewelry. A few Egyptians traveled to the upper Nile to trade with other Africans. These traders took Egyptian products such as scrolls, linen, gold, and jewelry. They brought back exotic woods, animal skins, and live beasts. As Egypt grew, so did its need to organize. Egyptians created a government that divided the empire into 42 provinces. Many officials worked to keep the provinces running smoothly. Egypt also created an army to defend itself. One of the highest jobs in Egypt was to be a priest. Priests followed formal rituals and took care of the temples. Before entering a temple, a priest bathed and put on special linen garments and white sandals. Priests cleaned the sacred statues in temples, changed their clothes, and even fed them meals. Together, the priests and the ruler held ceremonies to please the gods. Egyptians believed that if the gods were angry, the Nile would not flood. As a result, crops would not grow, and people would die. So the ruler and the priests tried hard to keep the gods happy. By doing so, they hoped to maintain the social and political order. Slaves were at the bottom of society. In Egypt, people became slaves if they owed a debt, committed a crime, or were captured in war. Egyptian slaves were usually freed after a period of time. One exception was the slaves who had to work in the mines. Many died from the exhausting labor. Egypt was one of the best places in the ancient world to be a woman. Unlike other ancient African cultures, in Egyptian society men and women had fairly equal rights. For example, they could both own and manage their own property. The main job of most women was to care for their children and home, but some did other jobs too. Some women wove cloth. Others worked with their husbands in fields or workshops. Some women, such as Queen Tiy, even rose to important positions in the government. Children in Egypt played with toys such as dolls, animal figures, board games, and marbles. Their parents made the toys from wood or clay. Boys and girls also played rough physical games with balls made of leather or reeds. Boys and some girls from wealthy families went to schools run by scribes or priests. Most other children learned their parents jobs. Almost all Egyptians married when they were in their early teens. As in many ancient societies, much of the knowledge of Egypt came about as priests studied the world to find ways to please the gods. Other advances came about because of practical discoveries. Egyptian priests studied the sky as part of their religion. About 5,000 years ago, they noticed that a star now called Sirius appeared shortly before the Nile began to flood. The star returned to the same position in 365 days. Based on that, Egyptians developed the worlds first practical calendar. The Egyptians developed some of the first geometry. Each year the Niles floods washed away land boundaries. To restore property lines, surveyors measured the land by using ropes that were knotted at regular intervals. Geometric shapes such as squares and triangles were sacred to Egyptians. Architects used them in the design of royal temples and monuments. Egyptian doctors often prepared dead bodies for burial, so they knew the parts of the body. That knowledge helped them perform some of the worlds first surgery. Some doctors specialized in using medicines made of herbs. Egyptian medicine was far from perfect. Doctors believed that the heart controlled thought and the brain circulated blood, which is the opposite of what is known now. Some Egyptian treatments would raise eyebrows today. One cure for an upset stomach was to eat a hogs tooth crushed inside sugar cakes! Beginning about 3000 B.C., Egyptians developed a writing system using hieroglyphs. Hieroglyphs Hieroglyphs are pictures that stand for different words or sounds. Early Egyptians created a hieroglyphic system with about 700 characters. Over time the system grew to include more than 6,000 symbols. The Egyptians also developed a paperlike material called papyrus papyrus from a reed of the same name. Egyptians cut the stems into strips, pressed them, and dried them into sheets that could be rolled into scrolls. Papyrus scrolls were light and easy to carry. With them, Egyptians created some of the first books. Legend says a king named Narmer united Upper and Lower Egypt. Some historians think Narmer actually represents several kings who gradually joined the two lands. After Egypt was united, its ruler wore the Double Crown. It combined the red Crown of Lower Egypt with the white Crown of Upper Egypt. The first dynasty of the Egyptian empire began about 2925 B.C. A dynasty is a line of rulers from the same family. When a king died, one of his children usually took his place as ruler. The order in which members of a royal family inherit a throne is called the succession. More than 30 dynasties ruled ancient Egypt. Historians divide ancient Egyptian dynasties into the Old Kingdom, the Middle Kingdom, and the New Kingdom. The Old Kingdom started about 2575 B.C., when the Egyptian empire was gaining strength. The king of Egypt became known as the pharaoh pharaoh. The word pharaoh meant great house, and it was originally used to describe the kings palace. Later it became the title of the king himself. The pharaoh ruled from the capital city of Memphis. The ancient Egyptians thought the pharaoh was a child of the gods and a god himself. Egyptians believed that if the pharaoh and his subjects honored the gods, their lives would be happy. If Egypt suffered hard times for a long period, the people blamed the pharaoh for angering the gods. In such a case, a rival might drive him from power and start a new dynasty. Because the pharaoh was thought to be a god, government and religion were not separate in ancient Egypt. Priests had much power in the government. Many high officials were priests. The first rulers of Egypt were often buried in an underground tomb topped by mud brick. Soon, kings wanted more permanent monuments. They replaced the mud brick with a small pyramid of brick or stone. A pyramid is a structure shaped like a triangle, with four sides that meet at a point. About 2630 B.C., King Djoser built a much larger pyramid over his tomb. It is called a step pyramid because its sides rise in a series of giant steps. It is the oldest-known large stone structure in the world. About 80 years later, a pharaoh named Khufu decided he wanted a monument that would show the world how great he was. He ordered the construction of the largest pyramid ever built. Along its base, each side was about 760 feet long. The core was built from 2.3 million blocks of stone. Building the Great Pyramid was hard work. Miners cut the huge blocks of stone using copper saws and chisels. These tools were much softer than the iron tools developed later. Other teams of workers pulled the stone slabs up long, sloping ramps to their place on the pyramid. Near the top of the pyramid, the ramps ended. Workers dragged each heavy block hundreds of feet and then set it in place. Farmers did the heavy labor of hauling stone during the season when the Nile flooded their fields. Skilled stonecutters and overseers worked year-round. The Great Pyramid took nearly 20 years to build. An estimated 20,000 Egyptians worked on it. A city called Giza was built for the pyramid workers and the people who fed, clothed, and housed them. Eventually, Egyptians stopped building pyramids. One reason is that the pyramids drew attention to the tombs inside them. Grave robbers broke into the tombs to steal the treasure buried with the pharaohs. Sometimes they also stole the mummies. Egyptians believed that if a tomb was robbed, the person buried there could not have a happy afterlife. During the New Kingdom, pharaohs began building more secret tombs in an area called the Valley of the Kings. The burial chambers were hidden in mountains near the Nile. This way, the pharaohs hoped to protect their bodies and treasures from robbers. Both the pyramids and later tombs had several passageways leading to different rooms. This was to confuse grave robbers about which passage to take. Sometimes relatives, such as the queen, were buried in the extra rooms. Tombs were supposed to be the palaces of pharaohs in the afterlife. Mourners filled the tomb with objects ranging from food to furniture that the mummified pharaoh would need. Some tombs contained small statues that were supposed to be servants for the dead person. Egyptian artists decorated royal tombs with wall paintings and sculptures carved into the walls. Art was meant to glorify both the gods and the dead person. A sculpture of a dead pharaoh had perfect features, no matter how he really looked. Artists also followed strict rules about how to portray humans. Paintings showed a persons head, arms, and legs from the side. They showed the front of the body from the neck down to the waist. Wall paintings showed pharaohs enjoying themselves so they could have a happy afterlife. One favorite scene was of the pharaoh fishing in a papyrus marsh. Warlike kings were often portrayed in battle. Scenes might also show people providing for the needs of the dead person. Such activities included growing and preparing food, caring for animals, and building boats. As hard as the pharaohs tried to hide themselves, robbers stole the treasures from almost every tomb. Only a secret tomb built for a New Kingdom pharaoh was ever found with much of its treasure untouched. The dazzling riches found in this tomb show how much wealth the pharaohs spent preparing for the afterlife. By about 2130 B.C., Egyptian kings began to lose their power to local rulers of the provinces. For about 500 more years, the kings held Egypt together, but with a much weaker central government. This period of Egyptian history is called the Middle Kingdom. Rulers during the Middle Kingdom also faced challenges from outside Egypt. A nomadic people called the Hyksos invaded Egypt from the northeast. Their army conquered by using better weapons and horse-drawn chariots, which were new to Egyptians. After about 100 years, the Egyptians drove out the Hyksos and began the New Kingdom.'}\n"
     ]
    }
   ],
   "source": [
    "\n",
    "#get file pathway from sql and execute the script\n",
    "with open(\"C:\\\\xampp\\\\htdocs\\\\Yovinma\\\\softwareproj\\\\StuSubmissions\\\\egypt.txt\", encoding=\"utf8\") as file:\n",
    "    extraction = file.read().replace('\\n', '')\n",
    "    extraction = extraction.replace('\\t',' ')\n",
    "\n",
    "    \n",
    "\n",
    "f = {\"input_text\": str(''.join([x for x in extraction if ord(x) < 127])) }\n",
    "print(f)\n",
    "\n",
    "\n",
    "    \n",
    "\n"
   ]
  },
  {
   "cell_type": "code",
   "execution_count": null,
   "metadata": {},
   "outputs": [],
   "source": [
    "qg = main.QGen()"
   ]
  },
  {
   "cell_type": "code",
   "execution_count": null,
   "metadata": {},
   "outputs": [],
   "source": [
    "theactualresult = qg.predict_mcq(f)"
   ]
  },
  {
   "cell_type": "code",
   "execution_count": null,
   "metadata": {},
   "outputs": [],
   "source": []
  },
  {
   "cell_type": "code",
   "execution_count": null,
   "metadata": {},
   "outputs": [],
   "source": [
    "\n",
    "pprint (theactualresult)"
   ]
  },
  {
   "cell_type": "code",
   "execution_count": null,
   "metadata": {},
   "outputs": [],
   "source": []
  },
  {
   "cell_type": "code",
   "execution_count": null,
   "metadata": {},
   "outputs": [],
   "source": []
  },
  {
   "cell_type": "code",
   "execution_count": null,
   "metadata": {},
   "outputs": [],
   "source": []
  },
  {
   "cell_type": "code",
   "execution_count": null,
   "metadata": {},
   "outputs": [],
   "source": []
  },
  {
   "cell_type": "code",
   "execution_count": null,
   "metadata": {},
   "outputs": [],
   "source": []
  }
 ],
 "metadata": {
  "kernelspec": {
   "display_name": "Python 3 (ipykernel)",
   "language": "python",
   "name": "python3"
  },
  "language_info": {
   "codemirror_mode": {
    "name": "ipython",
    "version": 3
   },
   "file_extension": ".py",
   "mimetype": "text/x-python",
   "name": "python",
   "nbconvert_exporter": "python",
   "pygments_lexer": "ipython3",
   "version": "3.7.9"
  },
  "vscode": {
   "interpreter": {
    "hash": "7eb5c3186dfaa215c669c68952e94b16f794a0328261c645d976617619ec50c6"
   }
  }
 },
 "nbformat": 4,
 "nbformat_minor": 2
}
